{
 "cells": [
  {
   "cell_type": "code",
   "execution_count": 50,
   "metadata": {},
   "outputs": [],
   "source": [
    "import os\n",
    "import requests\n",
    "import pandas as pd"
   ]
  },
  {
   "cell_type": "code",
   "execution_count": 51,
   "metadata": {},
   "outputs": [],
   "source": [
    "\n",
    "token = \"06a4cf02a31a3b9fbed177f26e40af46d84a255c\""
   ]
  },
  {
   "cell_type": "code",
   "execution_count": 8,
   "metadata": {},
   "outputs": [
    {
     "name": "stdout",
     "output_type": "stream",
     "text": [
      "Failed. Status code: 429\n",
      "Error message: {\"detail\":\"Request was throttled. Expected available in 3482 seconds.\"}\n",
      "Total results retrieved: 0\n",
      "https://lca.aau.dk/api/footprint/\n"
     ]
    }
   ],
   "source": [
    "# API endpoint\n",
    "#footprint is the correct API interface\n",
    "url = \"https://lca.aau.dk/api/footprint/\" \n",
    "\n",
    "token = token\n",
    "\n",
    "headers = {\n",
    "    'Authorization': f'Bearer {token}',  \n",
    "    'Content-Type': 'application/json'   \n",
    "}\n",
    "\n",
    "all_footprints= []\n",
    "next_page_url = url  \n",
    "\n",
    "while next_page_url:\n",
    "    # Make the GET request\n",
    "    response = requests.get(next_page_url, headers=headers)\n",
    "\n",
    "    if response.status_code == 200:\n",
    "        data = response.json()        \n",
    "        all_footprints.extend(data.get(\"results\", data))  # Adjust based on API structure\n",
    "        next_page_url = data.get(\"next\")  # Check for the 'next' key in the response\n",
    "        if not next_page_url:\n",
    "            print(\"All pages retrieved successfully!\")\n",
    "    else:\n",
    "        # Handle errors\n",
    "        print(f\"Failed. Status code: {response.status_code}\")\n",
    "        print(\"Error message:\", response.text)\n",
    "        break\n",
    "\n",
    "# Now you have all the data\n",
    "print(f\"Total results retrieved: {len(all_footprints)}\")\n",
    "print(next_page_url)\n"
   ]
  },
  {
   "cell_type": "code",
   "execution_count": 9,
   "metadata": {},
   "outputs": [
    {
     "data": {
      "text/plain": [
       "0"
      ]
     },
     "execution_count": 9,
     "metadata": {},
     "output_type": "execute_result"
    }
   ],
   "source": [
    "all_footprint_codes = [item['flow_code'] for item in all_footprints]\n",
    "unique_footprint_codes = set(all_footprint_codes)\n",
    "len(unique_footprint_codes)"
   ]
  },
  {
   "cell_type": "code",
   "execution_count": 11,
   "metadata": {},
   "outputs": [],
   "source": [
    "list_abbreviation = [\"A_POWC\",\n",
    "\"A_POWG\",\n",
    "\"A_POWN\",\n",
    "\"A_POWH\",\n",
    "\"A_POWW\",\n",
    "\"A_POWP\",\n",
    "\"A_POWB\",\n",
    "\"A_POWS\",\n",
    "\"A_POWO\",\n",
    "\"A_POWM\",\n",
    "] #From Bonsai excel file, codes of all electricity producing activities"
   ]
  },
  {
   "cell_type": "code",
   "execution_count": 12,
   "metadata": {},
   "outputs": [
    {
     "name": "stdout",
     "output_type": "stream",
     "text": [
      "A_POWC not in the list\n",
      "A_POWG not in the list\n",
      "A_POWN not in the list\n",
      "A_POWH not in the list\n",
      "A_POWW not in the list\n",
      "A_POWP not in the list\n",
      "A_POWB not in the list\n",
      "A_POWS not in the list\n",
      "A_POWO not in the list\n",
      "A_POWM not in the list\n"
     ]
    }
   ],
   "source": [
    "# check if all abbreviations are in the list\n",
    "for i in list_abbreviation:\n",
    "    if i not in unique_footprint_codes:\n",
    "        print(f\"{i} not in the list\")"
   ]
  },
  {
   "cell_type": "code",
   "execution_count": 66,
   "metadata": {},
   "outputs": [],
   "source": [
    "#technically, we don't have to call teh API again, but simply filter all_footprints\n",
    "electr_footprint = []\n",
    "for item in all_footprints:\n",
    "    if item['flow_code'] in list_abbreviation:\n",
    "        electr_footprint.append(item)\n"
   ]
  },
  {
   "cell_type": "code",
   "execution_count": 67,
   "metadata": {},
   "outputs": [
    {
     "data": {
      "text/plain": [
       "{'id': 32552,\n",
       " 'flow_code': 'A_POWC',\n",
       " 'nace_related_code': '40.11.a',\n",
       " 'description': 'Production of electricity by coal',\n",
       " 'unit_reference': 'TJ',\n",
       " 'region_code': 'AT',\n",
       " 'value': 211.86083667813315,\n",
       " 'unit_emission': 'tonnes CO2eq',\n",
       " 'version': 'v1.0.0'}"
      ]
     },
     "execution_count": 67,
     "metadata": {},
     "output_type": "execute_result"
    }
   ],
   "source": [
    "electr_footprint[0]"
   ]
  },
  {
   "cell_type": "code",
   "execution_count": 68,
   "metadata": {},
   "outputs": [
    {
     "data": {
      "text/plain": [
       "325"
      ]
     },
     "execution_count": 68,
     "metadata": {},
     "output_type": "execute_result"
    }
   ],
   "source": [
    "len(electr_footprint) #325 the amount of entries in the bonsai excel, so we are not missing any"
   ]
  },
  {
   "cell_type": "code",
   "execution_count": 69,
   "metadata": {},
   "outputs": [
    {
     "name": "stdout",
     "output_type": "stream",
     "text": [
      "                                 description region_code unit_emission  \\\n",
      "0          Production of electricity by coal          AT  tonnes CO2eq   \n",
      "1          Production of electricity by coal          AU  tonnes CO2eq   \n",
      "2          Production of electricity by coal          BE  tonnes CO2eq   \n",
      "3          Production of electricity by coal          BG  tonnes CO2eq   \n",
      "4          Production of electricity by coal          BR  tonnes CO2eq   \n",
      "..                                       ...         ...           ...   \n",
      "320  Production of electricity by geothermal          US  tonnes CO2eq   \n",
      "321  Production of electricity by geothermal          WA  tonnes CO2eq   \n",
      "322  Production of electricity by geothermal          WE  tonnes CO2eq   \n",
      "323  Production of electricity by geothermal          WF  tonnes CO2eq   \n",
      "324  Production of electricity by geothermal          WL  tonnes CO2eq   \n",
      "\n",
      "    unit_reference       value flow_code     id  \n",
      "0               TJ  211.860837    A_POWC  32552  \n",
      "1               TJ  283.040230    A_POWC  32553  \n",
      "2               TJ  262.177814    A_POWC  32554  \n",
      "3               TJ  307.510239    A_POWC  32555  \n",
      "4               TJ  287.422592    A_POWC  32556  \n",
      "..             ...         ...       ...    ...  \n",
      "320             TJ    1.930166    A_POWM  32882  \n",
      "321             TJ   23.451914    A_POWM  32883  \n",
      "322             TJ   41.827910    A_POWM  32884  \n",
      "323             TJ   16.325323    A_POWM  32885  \n",
      "324             TJ   14.962063    A_POWM  32886  \n",
      "\n",
      "[325 rows x 7 columns]\n"
     ]
    }
   ],
   "source": [
    "# Create a pandas DataFrame from the list of dictionaries\n",
    "df = pd.DataFrame(electr_footprint)\n",
    "df = df[['description', 'region_code', 'unit_emission', 'unit_reference', 'value', 'flow_code', 'id']]\n",
    "print(df)"
   ]
  },
  {
   "cell_type": "code",
   "execution_count": 35,
   "metadata": {},
   "outputs": [
    {
     "data": {
      "text/html": [
       "<div>\n",
       "<style scoped>\n",
       "    .dataframe tbody tr th:only-of-type {\n",
       "        vertical-align: middle;\n",
       "    }\n",
       "\n",
       "    .dataframe tbody tr th {\n",
       "        vertical-align: top;\n",
       "    }\n",
       "\n",
       "    .dataframe thead th {\n",
       "        text-align: right;\n",
       "    }\n",
       "</style>\n",
       "<table border=\"1\" class=\"dataframe\">\n",
       "  <thead>\n",
       "    <tr style=\"text-align: right;\">\n",
       "      <th></th>\n",
       "      <th>description</th>\n",
       "      <th>region_code</th>\n",
       "      <th>unit_emission</th>\n",
       "      <th>unit_reference</th>\n",
       "      <th>value</th>\n",
       "      <th>flow_code</th>\n",
       "      <th>id</th>\n",
       "    </tr>\n",
       "  </thead>\n",
       "  <tbody>\n",
       "    <tr>\n",
       "      <th>0</th>\n",
       "      <td>Production of electricity by coal</td>\n",
       "      <td>AT</td>\n",
       "      <td>tonnes CO2eq</td>\n",
       "      <td>TJ</td>\n",
       "      <td>211.860837</td>\n",
       "      <td>A_POWC</td>\n",
       "      <td>32552</td>\n",
       "    </tr>\n",
       "    <tr>\n",
       "      <th>1</th>\n",
       "      <td>Production of electricity by coal</td>\n",
       "      <td>BE</td>\n",
       "      <td>tonnes CO2eq</td>\n",
       "      <td>TJ</td>\n",
       "      <td>211.860837</td>\n",
       "      <td>A_POWC</td>\n",
       "      <td>32552</td>\n",
       "    </tr>\n",
       "  </tbody>\n",
       "</table>\n",
       "</div>"
      ],
      "text/plain": [
       "                         description region_code unit_emission unit_reference  \\\n",
       "0  Production of electricity by coal          AT  tonnes CO2eq             TJ   \n",
       "1  Production of electricity by coal          BE  tonnes CO2eq             TJ   \n",
       "\n",
       "        value flow_code     id  \n",
       "0  211.860837    A_POWC  32552  \n",
       "1  211.860837    A_POWC  32552  "
      ]
     },
     "execution_count": 35,
     "metadata": {},
     "output_type": "execute_result"
    }
   ],
   "source": [
    " # test dataframe with correct dimensions\n",
    "\n",
    "test_data = [\n",
    "    {'id': 32552,\n",
    " 'flow_code': 'A_POWC',\n",
    " 'nace_related_code': '40.11.a',\n",
    " 'description': 'Production of electricity by coal',\n",
    " 'unit_reference': 'TJ',\n",
    " 'region_code': 'AT',\n",
    " 'value': 211.86083667813315,\n",
    " 'unit_emission': 'tonnes CO2eq',\n",
    " 'version': 'v1.0.0'}, \n",
    "\n",
    " {'id': 32552,\n",
    " 'flow_code': 'A_POWC',\n",
    " 'nace_related_code': '40.11.a',\n",
    " 'description': 'Production of electricity by coal',\n",
    " 'unit_reference': 'TJ',\n",
    " 'region_code': 'BE',\n",
    " 'value': 211.86083667813315,\n",
    " 'unit_emission': 'tonnes CO2eq',\n",
    " 'version': 'v1.0.0'}\n",
    " ]\n",
    "\n",
    "df = pd.DataFrame(test_data)\n",
    "df = df[['description', 'region_code', 'unit_emission', 'unit_reference', 'value', 'flow_code', 'id']]\n",
    "df"
   ]
  },
  {
   "cell_type": "code",
   "execution_count": 36,
   "metadata": {},
   "outputs": [
    {
     "data": {
      "text/html": [
       "<div>\n",
       "<style scoped>\n",
       "    .dataframe tbody tr th:only-of-type {\n",
       "        vertical-align: middle;\n",
       "    }\n",
       "\n",
       "    .dataframe tbody tr th {\n",
       "        vertical-align: top;\n",
       "    }\n",
       "\n",
       "    .dataframe thead th {\n",
       "        text-align: right;\n",
       "    }\n",
       "</style>\n",
       "<table border=\"1\" class=\"dataframe\">\n",
       "  <thead>\n",
       "    <tr style=\"text-align: right;\">\n",
       "      <th></th>\n",
       "      <th>description</th>\n",
       "      <th>region_code</th>\n",
       "      <th>value</th>\n",
       "      <th>flow_code</th>\n",
       "      <th>id</th>\n",
       "      <th>unit</th>\n",
       "    </tr>\n",
       "  </thead>\n",
       "  <tbody>\n",
       "    <tr>\n",
       "      <th>0</th>\n",
       "      <td>Production of electricity by coal</td>\n",
       "      <td>AT</td>\n",
       "      <td>0.762699</td>\n",
       "      <td>A_POWC</td>\n",
       "      <td>32552</td>\n",
       "      <td>kg CO2/kWh</td>\n",
       "    </tr>\n",
       "    <tr>\n",
       "      <th>1</th>\n",
       "      <td>Production of electricity by coal</td>\n",
       "      <td>BE</td>\n",
       "      <td>0.762699</td>\n",
       "      <td>A_POWC</td>\n",
       "      <td>32552</td>\n",
       "      <td>kg CO2/kWh</td>\n",
       "    </tr>\n",
       "  </tbody>\n",
       "</table>\n",
       "</div>"
      ],
      "text/plain": [
       "                         description region_code     value flow_code     id  \\\n",
       "0  Production of electricity by coal          AT  0.762699    A_POWC  32552   \n",
       "1  Production of electricity by coal          BE  0.762699    A_POWC  32552   \n",
       "\n",
       "         unit  \n",
       "0  kg CO2/kWh  \n",
       "1  kg CO2/kWh  "
      ]
     },
     "execution_count": 36,
     "metadata": {},
     "output_type": "execute_result"
    }
   ],
   "source": [
    "#convert values from t CO2/TJ to kg CO2/kWh\n",
    "conversion_factor = 0.0036\n",
    "df['value'] = df['value'] * conversion_factor\n",
    "\n",
    "df[\"unit\"] = \"kg CO2/kWh\"\n",
    "df = df.drop(columns = [\"unit_emission\", \"unit_reference\"])\n",
    "df =df.rename(columns={\"value\": \"emission factor\"})"
   ]
  },
  {
   "cell_type": "code",
   "execution_count": 37,
   "metadata": {},
   "outputs": [],
   "source": [
    "\n",
    "dict = {(\"Production of electricity by coal\", \"AT\"): 0.001,}\n",
    "\n"
   ]
  },
  {
   "cell_type": "code",
   "execution_count": 43,
   "metadata": {},
   "outputs": [],
   "source": [
    "# direct emission factors, which have been manually looked up as they couldn't be retrieved easily from the API\n",
    "direct_emission_dict = {   # Production of electricity by coal\n",
    "    (\"Production of electricity by coal\", \"AT\"): 0.757,\n",
    "    (\"Production of electricity by coal\", \"AU\"): 0.999,\n",
    "    (\"Production of electricity by coal\", \"BE\"): 0.928,\n",
    "    (\"Production of electricity by coal\", \"BG\"): 1.09,\n",
    "    (\"Production of electricity by coal\", \"BR\"): 1.03,\n",
    "    (\"Production of electricity by coal\", \"CA\"): 0.95,\n",
    "    (\"Production of electricity by coal\", \"CN\"): 0.868,\n",
    "    (\"Production of electricity by coal\", \"CZ\"): 1.03,\n",
    "    (\"Production of electricity by coal\", \"DE\"): 0.893,\n",
    "    (\"Production of electricity by coal\", \"EE\"): 0.745,\n",
    "    (\"Production of electricity by coal\", \"ES\"): 0.915,\n",
    "    (\"Production of electricity by coal\", \"FI\"): 0.868,\n",
    "    (\"Production of electricity by coal\", \"FR\"): 0.925,\n",
    "    (\"Production of electricity by coal\", \"GB\"): 0.894,\n",
    "    (\"Production of electricity by coal\", \"GR\"): 1,\n",
    "    (\"Production of electricity by coal\", \"HR\"): 0.896,\n",
    "    (\"Production of electricity by coal\", \"HU\"): 1.07,\n",
    "    (\"Production of electricity by coal\", \"ID\"): 1.01,\n",
    "    (\"Production of electricity by coal\", \"IE\"): 0.954,\n",
    "    (\"Production of electricity by coal\", \"IN\"): 0.925,\n",
    "    (\"Production of electricity by coal\", \"IT\"): 0.897,\n",
    "    (\"Production of electricity by coal\", \"JP\"): 0.821,\n",
    "    (\"Production of electricity by coal\", \"KR\"): 0.905,\n",
    "    (\"Production of electricity by coal\", \"MX\"): 1.06,\n",
    "    (\"Production of electricity by coal\", \"NL\"): 0.788,\n",
    "    (\"Production of electricity by coal\", \"PL\"): 0.853,\n",
    "    (\"Production of electricity by coal\", \"PT\"): 0.892,\n",
    "    (\"Production of electricity by coal\", \"RO\"): 1.08,\n",
    "    (\"Production of electricity by coal\", \"TR\"): 0.959,\n",
    "    (\"Production of electricity by coal\", \"US\"): 0.942,\n",
    "    (\"Production of electricity by coal\", \"WA\"): 0.984,\n",
    "    (\"Production of electricity by coal\", \"WE\"): 1.06,\n",
    "    (\"Production of electricity by coal\", \"WF\"): 1.17,\n",
    "    (\"Production of electricity by coal\", \"WL\"): 0.963,\n",
    "    (\"Production of electricity by coal\", \"WM\"): 0.893,\n",
    "    (\"Production of electricity by coal\", \"ZA\"): 1.05,\n",
    "    \n",
    "    # Production of electricity by gas\n",
    "    (\"Production of electricity by gas\", \"AT\"): 0.432,\n",
    "    (\"Production of electricity by gas\", \"AU\"): 0.596,\n",
    "    (\"Production of electricity by gas\", \"BE\"): 0.402,\n",
    "    (\"Production of electricity by gas\", \"BG\"): 1.08,\n",
    "    (\"Production of electricity by gas\", \"BR\"): 0.47,\n",
    "    (\"Production of electricity by gas\", \"CA\"): 0.606,\n",
    "    (\"Production of electricity by gas\", \"CN\"): 0.473,\n",
    "    (\"Production of electricity by gas\", \"CZ\"): 0.387,\n",
    "    (\"Production of electricity by gas\", \"DE\"): 0.42,\n",
    "    (\"Production of electricity by gas\", \"EE\"): 0.23,\n",
    "    (\"Production of electricity by gas\", \"ES\"): 0.427,\n",
    "    (\"Production of electricity by gas\", \"FI\"): 0.532,\n",
    "    (\"Production of electricity by gas\", \"FR\"): 0.382,\n",
    "    (\"Production of electricity by gas\", \"GB\"): 0.388,\n",
    "    (\"Production of electricity by gas\", \"GR\"): 0.369,\n",
    "    (\"Production of electricity by gas\", \"HR\"): 0.452,\n",
    "    (\"Production of electricity by gas\", \"HU\"): 0.402,\n",
    "    (\"Production of electricity by gas\", \"ID\"): 0.541,\n",
    "    (\"Production of electricity by gas\", \"IE\"): 0.367,\n",
    "    (\"Production of electricity by gas\", \"IN\"): 0.506,\n",
    "    (\"Production of electricity by gas\", \"IT\"): 0.381,\n",
    "    (\"Production of electricity by gas\", \"JP\"): 0.418,\n",
    "    (\"Production of electricity by gas\", \"KR\"): 0.397,\n",
    "    (\"Production of electricity by gas\", \"LU\"): 5.93,\n",
    "    (\"Production of electricity by gas\", \"MX\"): 0.448,\n",
    "    (\"Production of electricity by gas\", \"NL\"): 0.369,\n",
    "    (\"Production of electricity by gas\", \"NO\"): 0.552,\n",
    "    (\"Production of electricity by gas\", \"PT\"): 0.372,\n",
    "    (\"Production of electricity by gas\", \"RO\"): 0.409,\n",
    "    (\"Production of electricity by gas\", \"RU\"): 1.15,\n",
    "    (\"Production of electricity by gas\", \"SI\"): 0.859,\n",
    "    (\"Production of electricity by gas\", \"SK\"): 0.509,\n",
    "    (\"Production of electricity by gas\", \"TR\"): 0.395,\n",
    "    (\"Production of electricity by gas\", \"US\"): 0.436,\n",
    "    (\"Production of electricity by gas\", \"WA\"): 0.49,\n",
    "    (\"Production of electricity by gas\", \"WE\"): 0.508,\n",
    "    (\"Production of electricity by gas\", \"WF\"): 0.496,\n",
    "    (\"Production of electricity by gas\", \"WL\"): 0.533,\n",
    "    (\"Production of electricity by gas\", \"WM\"): 0.569,\n",
    "    \n",
    "    # Production of electricity by petroleum and other oil derivatives\n",
    "    (\"Production of electricity by petroleum and other oil derivatives\", \"AT\"): 0.696,\n",
    "    (\"Production of electricity by petroleum and other oil derivatives\", \"AU\"): 0.75,\n",
    "    (\"Production of electricity by petroleum and other oil derivatives\", \"BE\"): 1.08,\n",
    "    (\"Production of electricity by petroleum and other oil derivatives\", \"BG\"): 1.14,\n",
    "    (\"Production of electricity by petroleum and other oil derivatives\", \"BR\"): 0.685,\n",
    "    (\"Production of electricity by petroleum and other oil derivatives\", \"CA\"): 0.897,\n",
    "    (\"Production of electricity by petroleum and other oil derivatives\", \"CH\"): 0.697,\n",
    "    (\"Production of electricity by petroleum and other oil derivatives\", \"CN\"): 1.05,\n",
    "    (\"Production of electricity by petroleum and other oil derivatives\", \"CY\"): 0.733,\n",
    "    (\"Production of electricity by petroleum and other oil derivatives\", \"CZ\"): 0.745,\n",
    "    (\"Production of electricity by petroleum and other oil derivatives\", \"DE\"): 0.742,\n",
    "    (\"Production of electricity by petroleum and other oil derivatives\", \"DK\"): 1.1,\n",
    "    (\"Production of electricity by petroleum and other oil derivatives\", \"EE\"): 0.74,\n",
    "    (\"Production of electricity by petroleum and other oil derivatives\", \"ES\"): 0.753,\n",
    "    (\"Production of electricity by petroleum and other oil derivatives\", \"FI\"): 0.772,\n",
    "    (\"Production of electricity by petroleum and other oil derivatives\", \"FR\"): 0.726,\n",
    "    (\"Production of electricity by petroleum and other oil derivatives\", \"GB\"): 0.991,\n",
    "    (\"Production of electricity by petroleum and other oil derivatives\", \"GR\"): 0.6,\n",
    "    (\"Production of electricity by petroleum and other oil derivatives\", \"HR\"): 0.697,\n",
    "    (\"Production of electricity by petroleum and other oil derivatives\", \"HU\"): 0.919,\n",
    "    (\"Production of electricity by petroleum and other oil derivatives\", \"ID\"): 0.809,\n",
    "    (\"Production of electricity by petroleum and other oil derivatives\", \"IE\"): 0.767,\n",
    "    (\"Production of electricity by petroleum and other oil derivatives\", \"IN\"): 1.15,\n",
    "    (\"Production of electricity by petroleum and other oil derivatives\", \"IT\"): 0.808,\n",
    "    (\"Production of electricity by petroleum and other oil derivatives\", \"JP\"): 0.641,\n",
    "    (\"Production of electricity by petroleum and other oil derivatives\", \"KR\"): 0.71,\n",
    "    (\"Production of electricity by petroleum and other oil derivatives\", \"MT\"): 0.777,\n",
    "    (\"Production of electricity by petroleum and other oil derivatives\", \"MX\"): 0.769,\n",
    "    (\"Production of electricity by petroleum and other oil derivatives\", \"NL\"): 0.701,\n",
    "    (\"Production of electricity by petroleum and other oil derivatives\", \"NO\"): 0.348,\n",
    "    (\"Production of electricity by petroleum and other oil derivatives\", \"PL\"): 0.697,\n",
    "    (\"Production of electricity by petroleum and other oil derivatives\", \"PT\"): 0.679,\n",
    "    (\"Production of electricity by petroleum and other oil derivatives\", \"RO\"): 0.55,\n",
    "    (\"Production of electricity by petroleum and other oil derivatives\", \"RU\"): 1.05,\n",
    "    (\"Production of electricity by petroleum and other oil derivatives\", \"SE\"): 0.86,\n",
    "    (\"Production of electricity by petroleum and other oil derivatives\", \"SI\"): 0.871,\n",
    "    (\"Production of electricity by petroleum and other oil derivatives\", \"SK\"): 0,\n",
    "    (\"Production of electricity by petroleum and other oil derivatives\", \"TR\"): 0.667,\n",
    "    (\"Production of electricity by petroleum and other oil derivatives\", \"US\"): 0.891,\n",
    "    (\"Production of electricity by petroleum and other oil derivatives\", \"WA\"): 0.66,\n",
    "    (\"Production of electricity by petroleum and other oil derivatives\", \"WE\"): 0.761,\n",
    "    (\"Production of electricity by petroleum and other oil derivatives\", \"WF\"): 0.77,\n",
    "    (\"Production of electricity by petroleum and other oil derivatives\", \"WL\"): 0.81,\n",
    "    (\"Production of electricity by petroleum and other oil derivatives\", \"WM\"): 0.977,\n",
    "    (\"Production of electricity by petroleum and other oil derivatives\", \"ZA\"): 0.844,\n",
    "\n",
    "    # Production of electricity by biomass and waste\n",
    "    (\"Production of electricity by biomass and waste\", \"AT\"): 0.394,\n",
    "    (\"Production of electricity by biomass and waste\", \"AU\"): 0.447,\n",
    "    (\"Production of electricity by biomass and waste\", \"BE\"): 0.0407,\n",
    "    (\"Production of electricity by biomass and waste\", \"BG\"): 0.307,\n",
    "    (\"Production of electricity by biomass and waste\", \"BR\"): 0.415,\n",
    "    (\"Production of electricity by biomass and waste\", \"CA\"): 0.0589,\n",
    "    (\"Production of electricity by biomass and waste\", \"CH\"): 0.338,\n",
    "    (\"Production of electricity by biomass and waste\", \"CN\"): 0.0275,\n",
    "    (\"Production of electricity by biomass and waste\", \"CZ\"): 0.528,\n",
    "    (\"Production of electricity by biomass and waste\", \"DE\"): 0.362,\n",
    "    (\"Production of electricity by biomass and waste\", \"DK\"): 1.08,\n",
    "    (\"Production of electricity by biomass and waste\", \"EE\"): 0.00885,\n",
    "    (\"Production of electricity by biomass and waste\", \"ES\"): 0.121,\n",
    "    (\"Production of electricity by biomass and waste\", \"FI\"): 0.108,\n",
    "    (\"Production of electricity by biomass and waste\", \"FR\"): 0.52,\n",
    "    (\"Production of electricity by biomass and waste\", \"GB\"): 0.189,\n",
    "    (\"Production of electricity by biomass and waste\", \"GR\"): 0.579,\n",
    "    (\"Production of electricity by biomass and waste\", \"HR\"): 0.562,\n",
    "    (\"Production of electricity by biomass and waste\", \"HU\"): 0.0777,\n",
    "    (\"Production of electricity by biomass and waste\", \"ID\"): 0.0125,\n",
    "    (\"Production of electricity by biomass and waste\", \"IE\"): 0.182,\n",
    "    (\"Production of electricity by biomass and waste\", \"IN\"): 0.072,\n",
    "    (\"Production of electricity by biomass and waste\", \"IT\"): 0.205,\n",
    "    (\"Production of electricity by biomass and waste\", \"JP\"): 0.0225,\n",
    "    (\"Production of electricity by biomass and waste\", \"KR\"): 0.0594,\n",
    "    (\"Production of electricity by biomass and waste\", \"MX\"): 0.153,\n",
    "    (\"Production of electricity by biomass and waste\", \"NL\"): 0.0437,\n",
    "    (\"Production of electricity by biomass and waste\", \"NO\"): 0.312,\n",
    "    (\"Production of electricity by biomass and waste\", \"PL\"): 0.0176,\n",
    "    (\"Production of electricity by biomass and waste\", \"PT\"): 0.176,\n",
    "    (\"Production of electricity by biomass and waste\", \"RO\"): 0.0989,\n",
    "    (\"Production of electricity by biomass and waste\", \"SI\"): 1.01,\n",
    "    (\"Production of electricity by biomass and waste\", \"SK\"): 0.52,\n",
    "    (\"Production of electricity by biomass and waste\", \"TR\"): 0.516,\n",
    "    (\"Production of electricity by biomass and waste\", \"US\"): 0.332,\n",
    "    (\"Production of electricity by biomass and waste\", \"WA\"): 0.0727,\n",
    "    (\"Production of electricity by biomass and waste\", \"WE\"): 0.331,\n",
    "    (\"Production of electricity by biomass and waste\", \"WF\"): 0.0493,\n",
    "    (\"Production of electricity by biomass and waste\", \"WL\"): 0.0505,\n",
    "    (\"Production of electricity by biomass and waste\", \"WM\"): 0.473,\n",
    "    (\"Production of electricity by biomass and waste\", \"ZA\"): 0.0273,\n",
    "}"
   ]
  },
  {
   "cell_type": "code",
   "execution_count": 47,
   "metadata": {},
   "outputs": [],
   "source": [
    "df[\"direct emission factor\"] = df.apply(lambda x: direct_emission_dict.get((x[\"description\"], x[\"region_code\"]), 0), axis=1)"
   ]
  },
  {
   "cell_type": "code",
   "execution_count": 48,
   "metadata": {},
   "outputs": [],
   "source": [
    "df[\"indirect emission factor\"] = df[\"emission factor\"] - df[\"direct emission factor\"]\n",
    "\n",
    "#sort\n",
    "df = df[['description', 'region_code', 'flow_code', 'id','unit', 'emission factor', 'direct emission factor', 'indirect emission factor', ]]"
   ]
  },
  {
   "cell_type": "code",
   "execution_count": 49,
   "metadata": {},
   "outputs": [
    {
     "data": {
      "text/html": [
       "<div>\n",
       "<style scoped>\n",
       "    .dataframe tbody tr th:only-of-type {\n",
       "        vertical-align: middle;\n",
       "    }\n",
       "\n",
       "    .dataframe tbody tr th {\n",
       "        vertical-align: top;\n",
       "    }\n",
       "\n",
       "    .dataframe thead th {\n",
       "        text-align: right;\n",
       "    }\n",
       "</style>\n",
       "<table border=\"1\" class=\"dataframe\">\n",
       "  <thead>\n",
       "    <tr style=\"text-align: right;\">\n",
       "      <th></th>\n",
       "      <th>description</th>\n",
       "      <th>region_code</th>\n",
       "      <th>flow_code</th>\n",
       "      <th>id</th>\n",
       "      <th>unit</th>\n",
       "      <th>emission factor</th>\n",
       "      <th>direct emission factor</th>\n",
       "      <th>indirect emission factor</th>\n",
       "    </tr>\n",
       "  </thead>\n",
       "  <tbody>\n",
       "    <tr>\n",
       "      <th>0</th>\n",
       "      <td>Production of electricity by coal</td>\n",
       "      <td>AT</td>\n",
       "      <td>A_POWC</td>\n",
       "      <td>32552</td>\n",
       "      <td>kg CO2/kWh</td>\n",
       "      <td>0.762699</td>\n",
       "      <td>0.757</td>\n",
       "      <td>0.005699</td>\n",
       "    </tr>\n",
       "    <tr>\n",
       "      <th>1</th>\n",
       "      <td>Production of electricity by coal</td>\n",
       "      <td>BE</td>\n",
       "      <td>A_POWC</td>\n",
       "      <td>32552</td>\n",
       "      <td>kg CO2/kWh</td>\n",
       "      <td>0.762699</td>\n",
       "      <td>0.928</td>\n",
       "      <td>-0.165301</td>\n",
       "    </tr>\n",
       "  </tbody>\n",
       "</table>\n",
       "</div>"
      ],
      "text/plain": [
       "                         description region_code flow_code     id        unit  \\\n",
       "0  Production of electricity by coal          AT    A_POWC  32552  kg CO2/kWh   \n",
       "1  Production of electricity by coal          BE    A_POWC  32552  kg CO2/kWh   \n",
       "\n",
       "   emission factor  direct emission factor  indirect emission factor  \n",
       "0         0.762699                   0.757                  0.005699  \n",
       "1         0.762699                   0.928                 -0.165301  "
      ]
     },
     "execution_count": 49,
     "metadata": {},
     "output_type": "execute_result"
    }
   ],
   "source": [
    "df"
   ]
  },
  {
   "cell_type": "code",
   "execution_count": 70,
   "metadata": {},
   "outputs": [],
   "source": [
    "#save to excel\n",
    "df.to_csv(\"../data/bonsai_emission_factors.csv\", sep = \";\",  index=False)"
   ]
  },
  {
   "cell_type": "markdown",
   "metadata": {},
   "source": [
    "### just to demonstrate how to retrieve a footprint when you had the footprint id."
   ]
  },
  {
   "cell_type": "code",
   "execution_count": 46,
   "metadata": {},
   "outputs": [
    {
     "name": "stdout",
     "output_type": "stream",
     "text": [
      "338\n"
     ]
    }
   ],
   "source": [
    "#retrieve all ids of the electricity producing activities\n",
    "id_list = []\n",
    "for item in all_footprints:\n",
    "    if item['flow_code'] in list_abbreviation:\n",
    "        id_list.append(item['id'])\n",
    "\n",
    "print(len(id_list))"
   ]
  },
  {
   "cell_type": "code",
   "execution_count": null,
   "metadata": {},
   "outputs": [],
   "source": [
    "container = []\n",
    "\n",
    "for id in id_list:\n",
    "    url = f\"http://lca.aau.dk/api/footprint/{id}/\"\n",
    "    response = requests.get(url, headers=headers)\n",
    "    if response.status_code == 200:\n",
    "        data = response.json()\n",
    "        container.append(data)\n",
    "        \n",
    "    else:\n",
    "        print(f\"Failed. Status code: {response.status_code}\")\n",
    "        print(\"Error message:\", response.text)\n",
    "        break"
   ]
  }
 ],
 "metadata": {
  "kernelspec": {
   "display_name": "peakachu",
   "language": "python",
   "name": "python3"
  },
  "language_info": {
   "codemirror_mode": {
    "name": "ipython",
    "version": 3
   },
   "file_extension": ".py",
   "mimetype": "text/x-python",
   "name": "python",
   "nbconvert_exporter": "python",
   "pygments_lexer": "ipython3",
   "version": "3.12.7"
  }
 },
 "nbformat": 4,
 "nbformat_minor": 2
}
