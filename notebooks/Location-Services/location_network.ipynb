{
 "cells": [
  {
   "cell_type": "code",
   "execution_count": 1,
   "metadata": {},
   "outputs": [],
   "source": [
    "import networkx as nx\n",
    "import pandas as pd"
   ]
  },
  {
   "cell_type": "code",
   "execution_count": 2,
   "metadata": {},
   "outputs": [
    {
     "data": {
      "text/html": [
       "<div>\n",
       "<style scoped>\n",
       "    .dataframe tbody tr th:only-of-type {\n",
       "        vertical-align: middle;\n",
       "    }\n",
       "\n",
       "    .dataframe tbody tr th {\n",
       "        vertical-align: top;\n",
       "    }\n",
       "\n",
       "    .dataframe thead th {\n",
       "        text-align: right;\n",
       "    }\n",
       "</style>\n",
       "<table border=\"1\" class=\"dataframe\">\n",
       "  <thead>\n",
       "    <tr style=\"text-align: right;\">\n",
       "      <th></th>\n",
       "      <th>parent</th>\n",
       "      <th>child</th>\n",
       "      <th>type</th>\n",
       "    </tr>\n",
       "  </thead>\n",
       "  <tbody>\n",
       "    <tr>\n",
       "      <th>0</th>\n",
       "      <td>6295630</td>\n",
       "      <td>6255152</td>\n",
       "      <td>ADM</td>\n",
       "    </tr>\n",
       "    <tr>\n",
       "      <th>1</th>\n",
       "      <td>6295630</td>\n",
       "      <td>6255147</td>\n",
       "      <td>ADM</td>\n",
       "    </tr>\n",
       "    <tr>\n",
       "      <th>2</th>\n",
       "      <td>6295630</td>\n",
       "      <td>6255148</td>\n",
       "      <td>ADM</td>\n",
       "    </tr>\n",
       "    <tr>\n",
       "      <th>3</th>\n",
       "      <td>6295630</td>\n",
       "      <td>6255149</td>\n",
       "      <td>ADM</td>\n",
       "    </tr>\n",
       "    <tr>\n",
       "      <th>4</th>\n",
       "      <td>6295630</td>\n",
       "      <td>6255151</td>\n",
       "      <td>ADM</td>\n",
       "    </tr>\n",
       "    <tr>\n",
       "      <th>...</th>\n",
       "      <td>...</td>\n",
       "      <td>...</td>\n",
       "      <td>...</td>\n",
       "    </tr>\n",
       "    <tr>\n",
       "      <th>512579</th>\n",
       "      <td>13100072</td>\n",
       "      <td>3333160</td>\n",
       "      <td>NaN</td>\n",
       "    </tr>\n",
       "    <tr>\n",
       "      <th>512580</th>\n",
       "      <td>13100211</td>\n",
       "      <td>4288057</td>\n",
       "      <td>NaN</td>\n",
       "    </tr>\n",
       "    <tr>\n",
       "      <th>512581</th>\n",
       "      <td>4289412</td>\n",
       "      <td>13100211</td>\n",
       "      <td>NaN</td>\n",
       "    </tr>\n",
       "    <tr>\n",
       "      <th>512582</th>\n",
       "      <td>5178053</td>\n",
       "      <td>5193451</td>\n",
       "      <td>NaN</td>\n",
       "    </tr>\n",
       "    <tr>\n",
       "      <th>512583</th>\n",
       "      <td>5193451</td>\n",
       "      <td>5193439</td>\n",
       "      <td>NaN</td>\n",
       "    </tr>\n",
       "  </tbody>\n",
       "</table>\n",
       "<p>512584 rows × 3 columns</p>\n",
       "</div>"
      ],
      "text/plain": [
       "          parent     child type\n",
       "0        6295630   6255152  ADM\n",
       "1        6295630   6255147  ADM\n",
       "2        6295630   6255148  ADM\n",
       "3        6295630   6255149  ADM\n",
       "4        6295630   6255151  ADM\n",
       "...          ...       ...  ...\n",
       "512579  13100072   3333160  NaN\n",
       "512580  13100211   4288057  NaN\n",
       "512581   4289412  13100211  NaN\n",
       "512582   5178053   5193451  NaN\n",
       "512583   5193451   5193439  NaN\n",
       "\n",
       "[512584 rows x 3 columns]"
      ]
     },
     "execution_count": 2,
     "metadata": {},
     "output_type": "execute_result"
    }
   ],
   "source": [
    "df = pd.read_csv(\"../../data/Location-Services/hierarchy.txt\",sep=\"\\t\",header=0)\n",
    "df.columns = ['parent','child','type']\n",
    "df"
   ]
  },
  {
   "cell_type": "code",
   "execution_count": 3,
   "metadata": {},
   "outputs": [],
   "source": [
    "G = nx.DiGraph()\n",
    "\n",
    "for index, row in df.iterrows():\n",
    "    G.add_edge(row['parent'], row['child'])"
   ]
  },
  {
   "cell_type": "code",
   "execution_count": 4,
   "metadata": {},
   "outputs": [],
   "source": [
    "from sentier_peakachu.location_utils import LocationUtility\n",
    "lu = LocationUtility()\n",
    "geoid = lu.geonameid_Lookup(\"DNK\")"
   ]
  },
  {
   "cell_type": "code",
   "execution_count": 5,
   "metadata": {},
   "outputs": [
    {
     "name": "stdout",
     "output_type": "stream",
     "text": [
      "6418538\n",
      "6418539\n",
      "6418540\n",
      "6418541\n",
      "6418542\n",
      "3425505\n",
      "2622320\n",
      "[6255148, 12217933, 7729883, 6695072, 2614165, 2616167, 12503661]\n"
     ]
    }
   ],
   "source": [
    "children = G.successors(int(geoid))\n",
    "for item in children:\n",
    "    print(item)\n",
    "\n",
    "adults = list(G.predecessors(int(geoid)))\n",
    "print(adults)"
   ]
  }
 ],
 "metadata": {
  "kernelspec": {
   "display_name": ".venv",
   "language": "python",
   "name": "python3"
  },
  "language_info": {
   "codemirror_mode": {
    "name": "ipython",
    "version": 3
   },
   "file_extension": ".py",
   "mimetype": "text/x-python",
   "name": "python",
   "nbconvert_exporter": "python",
   "pygments_lexer": "ipython3",
   "version": "3.12.2"
  }
 },
 "nbformat": 4,
 "nbformat_minor": 2
}
