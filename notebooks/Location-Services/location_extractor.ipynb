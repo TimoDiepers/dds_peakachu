{
 "cells": [
  {
   "cell_type": "code",
   "execution_count": 9,
   "metadata": {},
   "outputs": [],
   "source": [
    "import polars as pl\n",
    "from rdflib import URIRef, Graph, Namespace\n",
    "from rdflib.namespace import RDF, SKOS\n",
    "from rdflib import Literal\n",
    "from rdflib.namespace import XSD\n",
    "from skosify import infer\n",
    "import sentier_data_tools as sdt\n",
    "from tqdm.notebook import tqdm\n",
    "\n",
    "path = r\"C:\\Users\\misc\\Downloads\\allCountries\\allCountries.txt\""
   ]
  },
  {
   "cell_type": "code",
   "execution_count": 10,
   "metadata": {},
   "outputs": [],
   "source": [
    "all_schema = pl.Schema({\n",
    "    \"geonameid\":pl.Int64,\n",
    "    \"name\":pl.String,\n",
    "    \"asciiname\":pl.String,\n",
    "    \"alternatenames\":pl.String,\n",
    "    \"latitude\":pl.Float32,\n",
    "    \"longitude\":pl.Float32,\n",
    "    \"feature_class\":pl.String,\n",
    "    \"feature_code\":pl.String,\n",
    "    \"country_code\":pl.String,\n",
    "    \"cc2\":pl.String,\n",
    "    \"admin1_code\":pl.String,\n",
    "    \"admin2_code\":pl.String,\n",
    "    \"admin3_code\":pl.String,\n",
    "    \"admin4_code\":pl.String,\n",
    "    \"population\":pl.Int64,\n",
    "    \"elevation\":pl.Int16,\n",
    "    \"dem\":pl.Int64,\n",
    "    \"timezone\":pl.String,\n",
    "    \"modification_date\":pl.Date\n",
    "})"
   ]
  },
  {
   "cell_type": "code",
   "execution_count": 11,
   "metadata": {},
   "outputs": [],
   "source": [
    "world_frame = pl.scan_csv(source=path,has_header=False,separator='\\t',schema=all_schema)"
   ]
  },
  {
   "cell_type": "code",
   "execution_count": 12,
   "metadata": {},
   "outputs": [],
   "source": [
    "hierarchy_schema = pl.Schema({\n",
    "    \"parent\":pl.Int64,\n",
    "    \"child\":pl.Int64,\n",
    "    \"admin1_code\":pl.String\n",
    "})\n",
    "\n",
    "hierarchy = pl.scan_csv(\"../../data/Location-Services/hierarchy.txt\",schema=hierarchy_schema,separator='\\t')"
   ]
  },
  {
   "cell_type": "markdown",
   "metadata": {},
   "source": [
    "hierarchy_merged = world_frame.join(other=hierarchy,left_on=\"geonameid\",right_on=\"parent\").sql(\"select * from self where feature_code in ('PCLI', 'ADM1', 'RGN')\").collect()"
   ]
  },
  {
   "cell_type": "code",
   "execution_count": 13,
   "metadata": {},
   "outputs": [],
   "source": [
    "alt_schema = pl.Schema({\n",
    "    \"alternateNameId\":pl.Int32,\n",
    "    \"geonameid\":pl.Int64,\n",
    "    \"isolanguage\":pl.String,\n",
    "    \"alternate_name\":pl.String,\n",
    "    \"isPreferredName\":pl.Int8,\n",
    "    \"isShortName\":pl.Int8,\n",
    "    \"isColloquial\":pl.Int8,\n",
    "    \"isHistoric\":pl.Int8,\n",
    "    \"from\":pl.String,\n",
    "    \"to\":pl.String\n",
    "})\n",
    "alternate_names = pl.scan_csv(r\"C:/Users/misc/Downloads/alternateNamesV2/alternateNamesV2.txt\",schema=alt_schema,separator=\"\\t\")"
   ]
  },
  {
   "cell_type": "markdown",
   "metadata": {},
   "source": [
    "alternate_names.sql(\"select * from self where geonameid = 10944373\").collect()"
   ]
  },
  {
   "cell_type": "markdown",
   "metadata": {},
   "source": [
    "hierarchy.sql('select * from self where parent = 10944373').collect()"
   ]
  },
  {
   "cell_type": "code",
   "execution_count": 14,
   "metadata": {},
   "outputs": [],
   "source": [
    "#hierarchy_merged.sql(\"select name, feature_class, feature_code from self where feature_code in ('ADM1', 'ADM2')\")\n",
    "filtered_world = world_frame.sql(\"select * from self where feature_code in ('PCLI', 'PCLD', 'RGN', 'ADM1')\")"
   ]
  },
  {
   "cell_type": "code",
   "execution_count": 15,
   "metadata": {},
   "outputs": [
    {
     "name": "stderr",
     "output_type": "stream",
     "text": [
      "C:\\Users\\misc\\AppData\\Local\\Temp\\1\\ipykernel_27772\\273697000.py:1: DeprecationWarning: Use of `how='outer'` should be replaced with `how='full'`.\n",
      "  filtered_alt_names = alternate_names.join(filtered_world, on=\"geonameid\",how=\"outer\").select(alternate_names.collect_schema().names()).collect()\n"
     ]
    }
   ],
   "source": [
    "filtered_alt_names = alternate_names.join(filtered_world, on=\"geonameid\",how=\"outer\").select(alternate_names.collect_schema().names()).collect()"
   ]
  },
  {
   "cell_type": "markdown",
   "metadata": {},
   "source": [
    "filtered_world.sql(\"select * from self where geonameid = 12060407\")\n",
    "#filtered_alt_names.sql(\"select * from self where geonameid = 3580718\")"
   ]
  },
  {
   "cell_type": "code",
   "execution_count": 16,
   "metadata": {},
   "outputs": [
    {
     "data": {
      "application/vnd.jupyter.widget-view+json": {
       "model_id": "6b7013343844466ebd302bd70769b008",
       "version_major": 2,
       "version_minor": 0
      },
      "text/plain": [
       "  0%|          | 0/6581 [00:00<?, ?it/s]"
      ]
     },
     "metadata": {},
     "output_type": "display_data"
    },
    {
     "ename": "TypeError",
     "evalue": "expected string or bytes-like object, got 'tuple'",
     "output_type": "error",
     "traceback": [
      "\u001b[1;31m---------------------------------------------------------------------------\u001b[0m",
      "\u001b[1;31mTypeError\u001b[0m                                 Traceback (most recent call last)",
      "Cell \u001b[1;32mIn[16], line 42\u001b[0m\n\u001b[0;32m     37\u001b[0m \u001b[38;5;28;01mfor\u001b[39;00m alt \u001b[38;5;129;01min\u001b[39;00m specific_alt_names\u001b[38;5;241m.\u001b[39miter_rows():\n\u001b[0;32m     38\u001b[0m     \u001b[38;5;28;01mif\u001b[39;00m alt[\u001b[38;5;241m4\u001b[39m] \u001b[38;5;241m==\u001b[39m \u001b[38;5;241m1\u001b[39m:\n\u001b[0;32m     39\u001b[0m         world\u001b[38;5;241m.\u001b[39madd((\n\u001b[0;32m     40\u001b[0m             uri,\n\u001b[0;32m     41\u001b[0m             SKOS\u001b[38;5;241m.\u001b[39mprefLabel,\n\u001b[1;32m---> 42\u001b[0m             \u001b[43mLiteral\u001b[49m\u001b[43m(\u001b[49m\u001b[43malt\u001b[49m\u001b[43m[\u001b[49m\u001b[38;5;241;43m3\u001b[39;49m\u001b[43m]\u001b[49m\u001b[43m,\u001b[49m\u001b[43m \u001b[49m\u001b[43mlang\u001b[49m\u001b[38;5;241;43m=\u001b[39;49m\u001b[43malt\u001b[49m\u001b[43m)\u001b[49m\n\u001b[0;32m     43\u001b[0m         ))\n\u001b[0;32m     44\u001b[0m     \u001b[38;5;28;01melse\u001b[39;00m:\n\u001b[0;32m     45\u001b[0m         world\u001b[38;5;241m.\u001b[39madd((\n\u001b[0;32m     46\u001b[0m             uri,\n\u001b[0;32m     47\u001b[0m             SKOS\u001b[38;5;241m.\u001b[39maltLabel,\n\u001b[0;32m     48\u001b[0m             Literal(alt[\u001b[38;5;241m3\u001b[39m], lang\u001b[38;5;241m=\u001b[39malt[\u001b[38;5;241m2\u001b[39m])\n\u001b[0;32m     49\u001b[0m         ))\n",
      "File \u001b[1;32mc:\\git\\sentier_peakachu\\.venv\\Lib\\site-packages\\rdflib\\term.py:633\u001b[0m, in \u001b[0;36mLiteral.__new__\u001b[1;34m(cls, lexical_or_value, lang, datatype, normalize)\u001b[0m\n\u001b[0;32m    627\u001b[0m \u001b[38;5;28;01mif\u001b[39;00m lang \u001b[38;5;129;01mis\u001b[39;00m \u001b[38;5;129;01mnot\u001b[39;00m \u001b[38;5;28;01mNone\u001b[39;00m \u001b[38;5;129;01mand\u001b[39;00m datatype \u001b[38;5;129;01mis\u001b[39;00m \u001b[38;5;129;01mnot\u001b[39;00m \u001b[38;5;28;01mNone\u001b[39;00m:\n\u001b[0;32m    628\u001b[0m     \u001b[38;5;28;01mraise\u001b[39;00m \u001b[38;5;167;01mTypeError\u001b[39;00m(\n\u001b[0;32m    629\u001b[0m         \u001b[38;5;124m\"\u001b[39m\u001b[38;5;124mA Literal can only have one of lang or datatype, \u001b[39m\u001b[38;5;124m\"\u001b[39m\n\u001b[0;32m    630\u001b[0m         \u001b[38;5;124m\"\u001b[39m\u001b[38;5;124mper http://www.w3.org/TR/rdf-concepts/#section-Graph-Literal\u001b[39m\u001b[38;5;124m\"\u001b[39m\n\u001b[0;32m    631\u001b[0m     )\n\u001b[1;32m--> 633\u001b[0m \u001b[38;5;28;01mif\u001b[39;00m lang \u001b[38;5;129;01mis\u001b[39;00m \u001b[38;5;129;01mnot\u001b[39;00m \u001b[38;5;28;01mNone\u001b[39;00m \u001b[38;5;129;01mand\u001b[39;00m \u001b[38;5;129;01mnot\u001b[39;00m \u001b[43m_is_valid_langtag\u001b[49m\u001b[43m(\u001b[49m\u001b[43mlang\u001b[49m\u001b[43m)\u001b[49m:\n\u001b[0;32m    634\u001b[0m     \u001b[38;5;28;01mraise\u001b[39;00m \u001b[38;5;167;01mValueError\u001b[39;00m(\u001b[38;5;124mf\u001b[39m\u001b[38;5;124m\"\u001b[39m\u001b[38;5;124m'\u001b[39m\u001b[38;5;132;01m{\u001b[39;00m\u001b[38;5;28mstr\u001b[39m(lang)\u001b[38;5;132;01m}\u001b[39;00m\u001b[38;5;124m'\u001b[39m\u001b[38;5;124m is not a valid language tag!\u001b[39m\u001b[38;5;124m\"\u001b[39m)\n\u001b[0;32m    636\u001b[0m \u001b[38;5;28;01mif\u001b[39;00m datatype \u001b[38;5;129;01mis\u001b[39;00m \u001b[38;5;129;01mnot\u001b[39;00m \u001b[38;5;28;01mNone\u001b[39;00m:\n",
      "File \u001b[1;32mc:\\git\\sentier_peakachu\\.venv\\Lib\\site-packages\\rdflib\\term.py:110\u001b[0m, in \u001b[0;36m_is_valid_langtag\u001b[1;34m(tag)\u001b[0m\n\u001b[0;32m    109\u001b[0m \u001b[38;5;28;01mdef\u001b[39;00m \u001b[38;5;21m_is_valid_langtag\u001b[39m(tag: \u001b[38;5;28mstr\u001b[39m) \u001b[38;5;241m-\u001b[39m\u001b[38;5;241m>\u001b[39m \u001b[38;5;28mbool\u001b[39m:\n\u001b[1;32m--> 110\u001b[0m     \u001b[38;5;28;01mreturn\u001b[39;00m \u001b[38;5;28mbool\u001b[39m(\u001b[43m_lang_tag_regex\u001b[49m\u001b[38;5;241;43m.\u001b[39;49m\u001b[43mmatch\u001b[49m\u001b[43m(\u001b[49m\u001b[43mtag\u001b[49m\u001b[43m)\u001b[49m)\n",
      "\u001b[1;31mTypeError\u001b[0m: expected string or bytes-like object, got 'tuple'"
     ]
    }
   ],
   "source": [
    "GEOSPACES = \"https://sws.geonames.org/\"\n",
    "GN = Namespace(\"http://www.geonames.org/ontology#\")\n",
    "\n",
    "filtered_world = filtered_world.collect()\n",
    "\n",
    "world = Graph()\n",
    "\n",
    "for item in tqdm(filtered_world.iter_rows(),total=filtered_world.height):\n",
    "    uri = URIRef(GEOSPACES + str(item[0]))\n",
    "    world.add((\n",
    "        uri,\n",
    "        SKOS.prefLabel,\n",
    "        Literal(Literal(item[1]))\n",
    "    ))\n",
    "    world.add((\n",
    "        uri,\n",
    "        RDF.type,\n",
    "        SKOS.Concept\n",
    "    ))\n",
    "    \n",
    "    world.add((\n",
    "        uri,\n",
    "        GN.countryCode,\n",
    "        Literal(item[8])\n",
    "    ))\n",
    "    children = hierarchy.sql(f\"select * from self where parent = {item[0]}\").collect()\n",
    "    if len(children) > 0:\n",
    "        for child in children.iter_rows():\n",
    "            if not filtered_world.filter(pl.col('geonameid') == child[1]).is_empty():\n",
    "                world.add((\n",
    "                    uri,\n",
    "                    SKOS.narrower,\n",
    "                    URIRef(GEOSPACES + str(child[1]))\n",
    "                ))\n",
    "    specific_alt_names = filtered_alt_names.sql(f\"select * from self where geonameid = {item[0]}\")\n",
    "    if specific_alt_names.height > 0:\n",
    "        for alt in specific_alt_names.iter_rows():\n",
    "            if alt[4] == 1:\n",
    "                world.add((\n",
    "                    uri,\n",
    "                    SKOS.prefLabel,\n",
    "                    Literal(alt[3], lang=alt[2])\n",
    "                ))\n",
    "            else:\n",
    "                world.add((\n",
    "                    uri,\n",
    "                    SKOS.altLabel,\n",
    "                    Literal(alt[3], lang=alt[2])\n",
    "                ))\n",
    "\n",
    "infer.skos_hierarchical(world)\n",
    "world.serialize(destination='../../data/Location-Services/faster_altnames.ttl')"
   ]
  },
  {
   "cell_type": "markdown",
   "metadata": {},
   "source": [
    "from urllib.request import urlretrieve\n",
    "\n",
    "url = \"https://download.geonames.org/export/dump/AD.zip\"\n",
    "filename = \"AD.zip\"\n",
    "path, response = urlretrieve(url, filename)"
   ]
  },
  {
   "cell_type": "markdown",
   "metadata": {},
   "source": [
    "import zipfile\n",
    "import os\n",
    "temp_dir = os.path.join(os.curdir,\"temp\")\n",
    "if not os.path.exists(temp_dir):\n",
    "    os.mkdir(temp_dir)\n",
    "\n",
    "hier_zip = os.path.realpath(os.path.join(temp_dir,\"hierarchy.zip\"))\n",
    "path, response = urlretrieve(url, hier_zip)"
   ]
  },
  {
   "cell_type": "markdown",
   "metadata": {},
   "source": [
    "zip_path = r\"C:\\Users\\misc\\Downloads\\hierarchy.zip\"\n",
    "with zipfile.ZipFile(zip_path, 'r') as zip_ref:\n",
    "    zip_ref.extractall(os.path.realpath(temp_dir))"
   ]
  },
  {
   "cell_type": "markdown",
   "metadata": {},
   "source": [
    "print(zip_path,'\\n',os.path.realpath(temp_dir))"
   ]
  }
 ],
 "metadata": {
  "kernelspec": {
   "display_name": ".venv",
   "language": "python",
   "name": "python3"
  },
  "language_info": {
   "codemirror_mode": {
    "name": "ipython",
    "version": 3
   },
   "file_extension": ".py",
   "mimetype": "text/x-python",
   "name": "python",
   "nbconvert_exporter": "python",
   "pygments_lexer": "ipython3",
   "version": "3.12.2"
  }
 },
 "nbformat": 4,
 "nbformat_minor": 2
}
