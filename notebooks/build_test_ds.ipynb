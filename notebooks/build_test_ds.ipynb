{
 "cells": [
  {
   "cell_type": "code",
   "execution_count": 43,
   "metadata": {},
   "outputs": [],
   "source": [
    "import pandas as pd\n",
    "import sentier_data_tools as sdt\n",
    "from datetime import datetime"
   ]
  },
  {
   "cell_type": "code",
   "execution_count": 44,
   "metadata": {},
   "outputs": [],
   "source": [
    "sdt.reset_local_database()"
   ]
  },
  {
   "cell_type": "code",
   "execution_count": 45,
   "metadata": {},
   "outputs": [],
   "source": [
    "metadata = sdt.Datapackage(\n",
    "    name=\"electricity_markets\",\n",
    "    description=\"Electricity markets blabla\",\n",
    "    contributors=[\n",
    "        {\n",
    "            \"title\": \"Peakachu\",\n",
    "            \"path\": \"https://github.com/TimoDiepers/sentier_peakachu/\",\n",
    "            \"role\": \"author\",\n",
    "        },\n",
    "    ],\n",
    "    homepage=\"https://github.com/TimoDiepers/sentier_peakachu/\",\n",
    ").metadata()"
   ]
  },
  {
   "cell_type": "code",
   "execution_count": 46,
   "metadata": {},
   "outputs": [],
   "source": [
    "from sentier_peakachu.entsoe import get_generation_data\n",
    "country_code = \"PL\"\n",
    "df = get_generation_data(\n",
    "    country_code=country_code,\n",
    "    start=pd.Timestamp(\"20241008\", tz=\"Europe/Brussels\"),\n",
    "    end=pd.Timestamp(\"20241009\", tz=\"Europe/Brussels\"),\n",
    ")"
   ]
  },
  {
   "cell_type": "code",
   "execution_count": 47,
   "metadata": {},
   "outputs": [],
   "source": [
    "df.index.name = \"timestamp\"\n",
    "df = df[[\"Fossil Brown coal/Lignite\", \"Fossil Gas\", \"Solar\"]].reset_index()\n",
    "df.columns = [\"timestamp\", \"https://example.com/coal\", \"https://example.com/gas\", \"https://example.com/pv\"]"
   ]
  },
  {
   "cell_type": "code",
   "execution_count": 48,
   "metadata": {},
   "outputs": [],
   "source": [
    "UNITS = [\"https://example.com/units/datetime\", \"https://example.com/units/MW\", \"https://example.com/units/MW\", \"https://example.com/units/MW\"]"
   ]
  },
  {
   "cell_type": "code",
   "execution_count": 49,
   "metadata": {},
   "outputs": [],
   "source": [
    "dataset_id = sdt.Dataframe(\n",
    "    name=f\"electricity mixes\",\n",
    "    data=df,\n",
    "    kind=sdt.DataframeKind.BOM,\n",
    "    product=\"http://openenergy-platform.org/ontology/oeo/OEO_00000139\",\n",
    "    columns=[{\"iri\": x, \"unit\": y} for x, y in zip(df.columns, UNITS)],\n",
    "    metadata=metadata,\n",
    "    location=f\"https://example.com/locations/{country_code}\",\n",
    "    version=1,\n",
    "    valid_from=datetime(2018, 1, 1),\n",
    "    valid_to=datetime(2028, 1, 1),\n",
    ").save()"
   ]
  },
  {
   "cell_type": "code",
   "execution_count": 50,
   "metadata": {},
   "outputs": [],
   "source": [
    "dataset = sdt.Dataframe.get_by_id(dataset_id)"
   ]
  },
  {
   "cell_type": "code",
   "execution_count": 51,
   "metadata": {},
   "outputs": [
    {
     "data": {
      "text/plain": [
       "[<Dataframe: 1>]"
      ]
     },
     "execution_count": 51,
     "metadata": {},
     "output_type": "execute_result"
    }
   ],
   "source": [
    "list(sdt.Dataframe.select().where(sdt.Dataframe.product == \"http://openenergy-platform.org/ontology/oeo/OEO_00000139\"))"
   ]
  },
  {
   "cell_type": "code",
   "execution_count": null,
   "metadata": {},
   "outputs": [],
   "source": []
  }
 ],
 "metadata": {
  "kernelspec": {
   "display_name": "sentier",
   "language": "python",
   "name": "python3"
  },
  "language_info": {
   "codemirror_mode": {
    "name": "ipython",
    "version": 3
   },
   "file_extension": ".py",
   "mimetype": "text/x-python",
   "name": "python",
   "nbconvert_exporter": "python",
   "pygments_lexer": "ipython3",
   "version": "3.12.2"
  }
 },
 "nbformat": 4,
 "nbformat_minor": 2
}
