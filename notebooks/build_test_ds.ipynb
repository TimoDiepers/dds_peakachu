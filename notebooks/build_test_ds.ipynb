{
 "cells": [
  {
   "cell_type": "code",
   "execution_count": 1,
   "metadata": {},
   "outputs": [],
   "source": [
    "import pandas as pd\n",
    "import sentier_data_tools as sdt\n",
    "from datetime import datetime"
   ]
  },
  {
   "cell_type": "code",
   "execution_count": 2,
   "metadata": {},
   "outputs": [],
   "source": [
    "sdt.reset_local_database()"
   ]
  },
  {
   "cell_type": "markdown",
   "metadata": {},
   "source": [
    "DF1"
   ]
  },
  {
   "cell_type": "code",
   "execution_count": 3,
   "metadata": {},
   "outputs": [],
   "source": [
    "metadata = sdt.Datapackage(\n",
    "    name=\"electricity_markets\",\n",
    "    description=\"Electricity markets blabla\",\n",
    "    contributors=[\n",
    "        {\n",
    "            \"title\": \"Peakachu\",\n",
    "            \"path\": \"https://github.com/TimoDiepers/sentier_peakachu/\",\n",
    "            \"role\": \"author\",\n",
    "        },\n",
    "    ],\n",
    "    homepage=\"https://github.com/TimoDiepers/sentier_peakachu/\",\n",
    ").metadata()"
   ]
  },
  {
   "cell_type": "code",
   "execution_count": 4,
   "metadata": {},
   "outputs": [],
   "source": [
    "from sentier_peakachu.entsoe import get_generation_data\n",
    "country_code = \"PL\"\n",
    "df = get_generation_data(\n",
    "    country_code=country_code,\n",
    "    start=pd.Timestamp(\"20241008\", tz=\"Europe/Brussels\"),\n",
    "    end=pd.Timestamp(\"20241009\", tz=\"Europe/Brussels\"),\n",
    ")"
   ]
  },
  {
   "cell_type": "code",
   "execution_count": 5,
   "metadata": {},
   "outputs": [],
   "source": [
    "df.index.name = \"timestamp\"\n",
    "df = df[[\"Fossil Brown coal/Lignite\", \"Fossil Gas\", \"Solar\"]].reset_index()\n",
    "df.columns = [\"timestamp\", \"https://example.com/coal\", \"https://example.com/gas\", \"https://example.com/pv\"]"
   ]
  },
  {
   "cell_type": "code",
   "execution_count": 6,
   "metadata": {},
   "outputs": [],
   "source": [
    "UNITS = [\"https://example.com/units/datetime\", \"https://example.com/units/MW\", \"https://example.com/units/MW\", \"https://example.com/units/MW\"]"
   ]
  },
  {
   "cell_type": "code",
   "execution_count": 7,
   "metadata": {},
   "outputs": [],
   "source": [
    "dataset_id = sdt.Dataset(\n",
    "    name=f\"electricity mixes\",\n",
    "    data=df,\n",
    "    kind=sdt.DatasetKind.BOM,\n",
    "    product=\"http://openenergy-platform.org/ontology/oeo/OEO_00000139\",\n",
    "    columns=[{\"iri\": x, \"unit\": y} for x, y in zip(df.columns, UNITS)],\n",
    "    metadata=metadata,\n",
    "    location=f\"https://example.com/locations/{country_code}\",\n",
    "    version=1,\n",
    "    valid_from=datetime(2018, 1, 1),\n",
    "    valid_to=datetime(2028, 1, 1),\n",
    ").save()"
   ]
  },
  {
   "cell_type": "code",
   "execution_count": 8,
   "metadata": {},
   "outputs": [],
   "source": [
    "dataset = sdt.Dataset.get_by_id(dataset_id)"
   ]
  },
  {
   "cell_type": "code",
   "execution_count": 9,
   "metadata": {},
   "outputs": [
    {
     "data": {
      "text/plain": [
       "[<Dataset: 1>]"
      ]
     },
     "execution_count": 9,
     "metadata": {},
     "output_type": "execute_result"
    }
   ],
   "source": [
    "list(sdt.Dataset.select().where(sdt.Dataset.product == \"http://openenergy-platform.org/ontology/oeo/OEO_00000139\"))"
   ]
  },
  {
   "cell_type": "markdown",
   "metadata": {},
   "source": [
    "DF2\n"
   ]
  },
  {
   "cell_type": "code",
   "execution_count": 10,
   "metadata": {},
   "outputs": [],
   "source": [
    "metadata = sdt.Datapackage(\n",
    "    name=\"emission data power plants\",\n",
    "    description=\"Climate trace emission data for power plants\",\n",
    "    contributors=[\n",
    "        {\n",
    "            \"title\": \"Karin Treyer\",\n",
    "            \"path\": \"https://www.psi.ch/en/ta/people/karin-treyer\",\n",
    "            \"role\": \"author\",\n",
    "        },\n",
    "        {\n",
    "            \"title\": \"Chris Mutel\",\n",
    "            \"path\": \"https://chris.mutel.org/\",\n",
    "            \"role\": \"wrangler\",\n",
    "        },\n",
    "    ],\n",
    "    homepage=\"https://example.com/additional_inventories\",\n",
    ").metadata()"
   ]
  },
  {
   "cell_type": "code",
   "execution_count": 16,
   "metadata": {},
   "outputs": [
    {
     "data": {
      "text/html": [
       "<div>\n",
       "<style scoped>\n",
       "    .dataframe tbody tr th:only-of-type {\n",
       "        vertical-align: middle;\n",
       "    }\n",
       "\n",
       "    .dataframe tbody tr th {\n",
       "        vertical-align: top;\n",
       "    }\n",
       "\n",
       "    .dataframe thead th {\n",
       "        text-align: right;\n",
       "    }\n",
       "</style>\n",
       "<table border=\"1\" class=\"dataframe\">\n",
       "  <thead>\n",
       "    <tr style=\"text-align: right;\">\n",
       "      <th></th>\n",
       "      <th>timestamp</th>\n",
       "      <th>powerplant_name</th>\n",
       "      <th>https://example.com/Energy</th>\n",
       "      <th>https://example.com/GWP100</th>\n",
       "    </tr>\n",
       "  </thead>\n",
       "  <tbody>\n",
       "    <tr>\n",
       "      <th>0</th>\n",
       "      <td>2020-01-01</td>\n",
       "      <td>coal plant 1</td>\n",
       "      <td>100</td>\n",
       "      <td>50</td>\n",
       "    </tr>\n",
       "    <tr>\n",
       "      <th>1</th>\n",
       "      <td>2020-01-01</td>\n",
       "      <td>coal plant 2</td>\n",
       "      <td>200</td>\n",
       "      <td>100</td>\n",
       "    </tr>\n",
       "    <tr>\n",
       "      <th>2</th>\n",
       "      <td>2020-01-01</td>\n",
       "      <td>coal plant 3</td>\n",
       "      <td>300</td>\n",
       "      <td>150</td>\n",
       "    </tr>\n",
       "    <tr>\n",
       "      <th>3</th>\n",
       "      <td>2021-01-01</td>\n",
       "      <td>coal plant 1</td>\n",
       "      <td>80</td>\n",
       "      <td>40</td>\n",
       "    </tr>\n",
       "    <tr>\n",
       "      <th>4</th>\n",
       "      <td>2021-01-01</td>\n",
       "      <td>coal plant 2</td>\n",
       "      <td>210</td>\n",
       "      <td>110</td>\n",
       "    </tr>\n",
       "    <tr>\n",
       "      <th>5</th>\n",
       "      <td>2021-01-01</td>\n",
       "      <td>coal plant 3</td>\n",
       "      <td>270</td>\n",
       "      <td>140</td>\n",
       "    </tr>\n",
       "  </tbody>\n",
       "</table>\n",
       "</div>"
      ],
      "text/plain": [
       "   timestamp powerplant_name  https://example.com/Energy  \\\n",
       "0 2020-01-01    coal plant 1                         100   \n",
       "1 2020-01-01    coal plant 2                         200   \n",
       "2 2020-01-01    coal plant 3                         300   \n",
       "3 2021-01-01    coal plant 1                          80   \n",
       "4 2021-01-01    coal plant 2                         210   \n",
       "5 2021-01-01    coal plant 3                         270   \n",
       "\n",
       "   https://example.com/GWP100  \n",
       "0                          50  \n",
       "1                         100  \n",
       "2                         150  \n",
       "3                          40  \n",
       "4                         110  \n",
       "5                         140  "
      ]
     },
     "execution_count": 16,
     "metadata": {},
     "output_type": "execute_result"
    }
   ],
   "source": [
    "columns = [\"timestamp\", \"powerplant_name\", \"https://example.com/Energy\", \"https://example.com/GWP100\"]\n",
    "timestamp = [datetime(2020, 1, 1, 0, 0, 0), datetime(2020, 1, 1, 0, 0, 0), datetime(2020, 1, 1, 0, 0, 0), datetime(2021, 1, 1, 0, 0, 0), datetime(2021, 1, 1, 0, 0, 0), datetime(2021, 1, 1, 0, 0, 0)]\n",
    "\n",
    "powerplant_name = [\"coal plant 1\", \"coal plant 2\", \"coal plant 3\", \"coal plant 1\", \"coal plant 2\", \"coal plant 3\"] \n",
    "production_vol = [100, 200, 300, 80, 210, 270]\n",
    "GWP = [50, 100, 150, 40, 110, 140]\n",
    "df = pd.DataFrame(list(zip(timestamp, powerplant_name, production_vol, GWP)), columns=columns)\n",
    "df"
   ]
  },
  {
   "cell_type": "code",
   "execution_count": 17,
   "metadata": {},
   "outputs": [],
   "source": [
    "df['total_production_at_timestamp'] = df.groupby('timestamp')[\"https://example.com/Energy\"].transform('sum')\n",
    "df['EF'] = df[\"https://example.com/GWP100\"]/ df['total_production_at_timestamp']\n"
   ]
  },
  {
   "cell_type": "code",
   "execution_count": 18,
   "metadata": {},
   "outputs": [
    {
     "data": {
      "text/html": [
       "<div>\n",
       "<style scoped>\n",
       "    .dataframe tbody tr th:only-of-type {\n",
       "        vertical-align: middle;\n",
       "    }\n",
       "\n",
       "    .dataframe tbody tr th {\n",
       "        vertical-align: top;\n",
       "    }\n",
       "\n",
       "    .dataframe thead th {\n",
       "        text-align: right;\n",
       "    }\n",
       "</style>\n",
       "<table border=\"1\" class=\"dataframe\">\n",
       "  <thead>\n",
       "    <tr style=\"text-align: right;\">\n",
       "      <th></th>\n",
       "      <th>timestamp</th>\n",
       "      <th>powerplant_name</th>\n",
       "      <th>https://example.com/Energy</th>\n",
       "      <th>https://example.com/GWP100</th>\n",
       "      <th>total_production_at_timestamp</th>\n",
       "      <th>EF</th>\n",
       "    </tr>\n",
       "  </thead>\n",
       "  <tbody>\n",
       "    <tr>\n",
       "      <th>0</th>\n",
       "      <td>2020-01-01</td>\n",
       "      <td>coal plant 1</td>\n",
       "      <td>100</td>\n",
       "      <td>50</td>\n",
       "      <td>600</td>\n",
       "      <td>0.083333</td>\n",
       "    </tr>\n",
       "    <tr>\n",
       "      <th>1</th>\n",
       "      <td>2020-01-01</td>\n",
       "      <td>coal plant 2</td>\n",
       "      <td>200</td>\n",
       "      <td>100</td>\n",
       "      <td>600</td>\n",
       "      <td>0.166667</td>\n",
       "    </tr>\n",
       "    <tr>\n",
       "      <th>2</th>\n",
       "      <td>2020-01-01</td>\n",
       "      <td>coal plant 3</td>\n",
       "      <td>300</td>\n",
       "      <td>150</td>\n",
       "      <td>600</td>\n",
       "      <td>0.250000</td>\n",
       "    </tr>\n",
       "    <tr>\n",
       "      <th>3</th>\n",
       "      <td>2021-01-01</td>\n",
       "      <td>coal plant 1</td>\n",
       "      <td>80</td>\n",
       "      <td>40</td>\n",
       "      <td>560</td>\n",
       "      <td>0.071429</td>\n",
       "    </tr>\n",
       "    <tr>\n",
       "      <th>4</th>\n",
       "      <td>2021-01-01</td>\n",
       "      <td>coal plant 2</td>\n",
       "      <td>210</td>\n",
       "      <td>110</td>\n",
       "      <td>560</td>\n",
       "      <td>0.196429</td>\n",
       "    </tr>\n",
       "    <tr>\n",
       "      <th>5</th>\n",
       "      <td>2021-01-01</td>\n",
       "      <td>coal plant 3</td>\n",
       "      <td>270</td>\n",
       "      <td>140</td>\n",
       "      <td>560</td>\n",
       "      <td>0.250000</td>\n",
       "    </tr>\n",
       "  </tbody>\n",
       "</table>\n",
       "</div>"
      ],
      "text/plain": [
       "   timestamp powerplant_name  https://example.com/Energy  \\\n",
       "0 2020-01-01    coal plant 1                         100   \n",
       "1 2020-01-01    coal plant 2                         200   \n",
       "2 2020-01-01    coal plant 3                         300   \n",
       "3 2021-01-01    coal plant 1                          80   \n",
       "4 2021-01-01    coal plant 2                         210   \n",
       "5 2021-01-01    coal plant 3                         270   \n",
       "\n",
       "   https://example.com/GWP100  total_production_at_timestamp        EF  \n",
       "0                          50                            600  0.083333  \n",
       "1                         100                            600  0.166667  \n",
       "2                         150                            600  0.250000  \n",
       "3                          40                            560  0.071429  \n",
       "4                         110                            560  0.196429  \n",
       "5                         140                            560  0.250000  "
      ]
     },
     "execution_count": 18,
     "metadata": {},
     "output_type": "execute_result"
    }
   ],
   "source": [
    "df"
   ]
  },
  {
   "cell_type": "code",
   "execution_count": 19,
   "metadata": {},
   "outputs": [],
   "source": [
    "UNITS = [\"https://example.com/units/datetime\", \"https://example.com/units/plant_name\", \"https://example.com/units/MWh\", \"https://example.com/units/MtCO2eq\", \"https://example.com/units/MtCO2eq/MWh\"]"
   ]
  },
  {
   "cell_type": "code",
   "execution_count": 20,
   "metadata": {},
   "outputs": [],
   "source": [
    "dataset_id = sdt.Dataset(\n",
    "    name=f\"power plant data\",\n",
    "    data=df,\n",
    "    kind=sdt.DatasetKind.BOM,\n",
    "    product=\"http://openenergy-platform.org/ontology/oeo/OEO_00000139\",\n",
    "    columns=[{\"iri\": x, \"unit\": y} for x, y in zip(df.columns, UNITS)],\n",
    "    metadata=metadata,\n",
    "    location=f\"https://example.com/locations/{country_code}\",\n",
    "    version=1,\n",
    "    valid_from=datetime(2018, 1, 1),\n",
    "    valid_to=datetime(2028, 1, 1),\n",
    ").save()"
   ]
  },
  {
   "cell_type": "code",
   "execution_count": null,
   "metadata": {},
   "outputs": [],
   "source": []
  }
 ],
 "metadata": {
  "kernelspec": {
   "display_name": "sentier",
   "language": "python",
   "name": "python3"
  },
  "language_info": {
   "codemirror_mode": {
    "name": "ipython",
    "version": 3
   },
   "file_extension": ".py",
   "mimetype": "text/x-python",
   "name": "python",
   "nbconvert_exporter": "python",
   "pygments_lexer": "ipython3",
   "version": "3.12.2"
  }
 },
 "nbformat": 4,
 "nbformat_minor": 2
}
