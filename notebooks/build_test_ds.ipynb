{
 "cells": [
  {
   "cell_type": "code",
   "execution_count": 9,
   "metadata": {},
   "outputs": [],
   "source": [
    "import pandas as pd\n",
    "import sentier_data_tools as sdt\n",
    "from datetime import datetime"
   ]
  },
  {
   "cell_type": "code",
   "execution_count": 10,
   "metadata": {},
   "outputs": [],
   "source": [
    "metadata = sdt.Datapackage(\n",
    "    name=\"electricity_markets\",\n",
    "    description=\"Electricity markets blabla\",\n",
    "    contributors=[\n",
    "        {\n",
    "            \"title\": \"Karin Treyer\",\n",
    "            \"path\": \"https://www.psi.ch/en/ta/people/karin-treyer\",\n",
    "            \"role\": \"author\",\n",
    "        },\n",
    "        {\n",
    "            \"title\": \"Chris Mutel\",\n",
    "            \"path\": \"https://chris.mutel.org/\",\n",
    "            \"role\": \"wrangler\",\n",
    "        },\n",
    "    ],\n",
    "    homepage=\"https://github.com/polca/premise/tree/master/premise/data/additional_inventories\",\n",
    ").metadata()"
   ]
  },
  {
   "cell_type": "code",
   "execution_count": 11,
   "metadata": {},
   "outputs": [],
   "source": [
    "columns = [\"timestamp\", \"location\", \"https://example.com/coal\", \"https://example.com/gas\", \"https://example.com/pv\"]\n",
    "timestamp = [datetime(2020, 1, 1, 0, 0, 0), datetime(2020, 1, 2, 0, 0, 0), datetime(2020, 1, 3, 0, 0, 0)]\n",
    "location = [\"PO\", \"PO\", \"PO\"]\n",
    "coal = [100, 200, 300]\n",
    "gas = [50, 100, 150]\n",
    "pv = [10, 20, 30]\n",
    "df = pd.DataFrame(list(zip(timestamp, location, coal, gas, pv)), columns=columns)"
   ]
  },
  {
   "cell_type": "code",
   "execution_count": 12,
   "metadata": {},
   "outputs": [
    {
     "data": {
      "text/html": [
       "<div>\n",
       "<style scoped>\n",
       "    .dataframe tbody tr th:only-of-type {\n",
       "        vertical-align: middle;\n",
       "    }\n",
       "\n",
       "    .dataframe tbody tr th {\n",
       "        vertical-align: top;\n",
       "    }\n",
       "\n",
       "    .dataframe thead th {\n",
       "        text-align: right;\n",
       "    }\n",
       "</style>\n",
       "<table border=\"1\" class=\"dataframe\">\n",
       "  <thead>\n",
       "    <tr style=\"text-align: right;\">\n",
       "      <th></th>\n",
       "      <th>timestamp</th>\n",
       "      <th>location</th>\n",
       "      <th>https://example.com/coal</th>\n",
       "      <th>https://example.com/gas</th>\n",
       "      <th>https://example.com/pv</th>\n",
       "    </tr>\n",
       "  </thead>\n",
       "  <tbody>\n",
       "    <tr>\n",
       "      <th>0</th>\n",
       "      <td>2020-01-01</td>\n",
       "      <td>PO</td>\n",
       "      <td>100</td>\n",
       "      <td>50</td>\n",
       "      <td>10</td>\n",
       "    </tr>\n",
       "    <tr>\n",
       "      <th>1</th>\n",
       "      <td>2020-01-02</td>\n",
       "      <td>PO</td>\n",
       "      <td>200</td>\n",
       "      <td>100</td>\n",
       "      <td>20</td>\n",
       "    </tr>\n",
       "    <tr>\n",
       "      <th>2</th>\n",
       "      <td>2020-01-03</td>\n",
       "      <td>PO</td>\n",
       "      <td>300</td>\n",
       "      <td>150</td>\n",
       "      <td>30</td>\n",
       "    </tr>\n",
       "  </tbody>\n",
       "</table>\n",
       "</div>"
      ],
      "text/plain": [
       "   timestamp location  https://example.com/coal  https://example.com/gas  \\\n",
       "0 2020-01-01       PO                       100                       50   \n",
       "1 2020-01-02       PO                       200                      100   \n",
       "2 2020-01-03       PO                       300                      150   \n",
       "\n",
       "   https://example.com/pv  \n",
       "0                      10  \n",
       "1                      20  \n",
       "2                      30  "
      ]
     },
     "execution_count": 12,
     "metadata": {},
     "output_type": "execute_result"
    }
   ],
   "source": [
    "df"
   ]
  },
  {
   "cell_type": "code",
   "execution_count": 13,
   "metadata": {},
   "outputs": [],
   "source": [
    "UNITS = [\"https://example.com/units/datetime\", \"https://example.com/locationlabel\", \"https://example.com/units/MW\", \"https://example.com/units/MW\", \"https://example.com/units/MW\"]"
   ]
  },
  {
   "cell_type": "code",
   "execution_count": 14,
   "metadata": {},
   "outputs": [],
   "source": [
    "d = sdt.Dataframe(\n",
    "    name=f\"electricity mixes\",\n",
    "    data=df,\n",
    "    kind=sdt.DataframeKind.BOM,\n",
    "    product=\"http://openenergy-platform.org/ontology/oeo/OEO_00000139\",\n",
    "    columns=[{\"iri\": x, \"unit\": y} for x, y in zip(df.columns, UNITS)],\n",
    "    metadata=metadata,\n",
    "    location=\"https://sws.geonames.org/6255148/\",\n",
    "    version=1,\n",
    "    valid_from=datetime(2018, 1, 1),\n",
    "    valid_to=datetime(2028, 1, 1),\n",
    ")"
   ]
  },
  {
   "cell_type": "code",
   "execution_count": 21,
   "metadata": {},
   "outputs": [
    {
     "name": "stdout",
     "output_type": "stream",
     "text": [
      "\u001b[0;31mType:\u001b[0m        Dataframe\n",
      "\u001b[0;31mString form:\u001b[0m 1\n",
      "\u001b[0;31mFile:\u001b[0m        ~/Documents/Coding/sentier_data_tools/sentier_data_tools/local_storage/db.py\n",
      "\u001b[0;31mDocstring:\u001b[0m   <no docstring>"
     ]
    }
   ],
   "source": [
    "d?"
   ]
  },
  {
   "cell_type": "code",
   "execution_count": 18,
   "metadata": {},
   "outputs": [
    {
     "data": {
      "text/plain": [
       "1"
      ]
     },
     "execution_count": 18,
     "metadata": {},
     "output_type": "execute_result"
    }
   ],
   "source": [
    "d.save()"
   ]
  },
  {
   "cell_type": "code",
   "execution_count": null,
   "metadata": {},
   "outputs": [],
   "source": []
  }
 ],
 "metadata": {
  "kernelspec": {
   "display_name": "sentier",
   "language": "python",
   "name": "python3"
  },
  "language_info": {
   "codemirror_mode": {
    "name": "ipython",
    "version": 3
   },
   "file_extension": ".py",
   "mimetype": "text/x-python",
   "name": "python",
   "nbconvert_exporter": "python",
   "pygments_lexer": "ipython3",
   "version": "3.12.2"
  }
 },
 "nbformat": 4,
 "nbformat_minor": 2
}
