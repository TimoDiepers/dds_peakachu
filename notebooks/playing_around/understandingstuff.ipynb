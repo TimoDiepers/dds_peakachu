{
 "cells": [
  {
   "cell_type": "code",
   "execution_count": 1,
   "metadata": {},
   "outputs": [],
   "source": [
    "COLUMNS = [\n",
    "    \"https://vocab.sentier.dev/model-terms/generic/company\",\n",
    "    \"https://vocab.sentier.dev/model-terms/generic/product\",\n",
    "    \"https://vocab.sentier.dev/model-terms/energy/min_power_cons\",\n",
    "    \"https://vocab.sentier.dev/model-terms/energy/nom_power_cons\",\n",
    "    \"https://vocab.sentier.dev/model-terms/energy/max_power_cons\",\n",
    "    \"https://vocab.sentier.dev/model-terms/energy/input_voltage\",\n",
    "    \"https://vocab.sentier.dev/model-terms/generic/footprint_area\",\n",
    "    \"https://vocab.sentier.dev/model-terms/generic/availability\",\n",
    "    \"https://vocab.sentier.dev/model-terms/electrolyzer/min_amb_temp\",\n",
    "    \"https://vocab.sentier.dev/model-terms/electrolyzer/max_amb_temp\",\n",
    "    \"https://vocab.sentier.dev/model-terms/energy/elec_energy_serv_dem\",\n",
    "    \"https://vocab.sentier.dev/model-terms/energy/therm_energy_serv_dem\",\n",
    "    \"https://vocab.sentier.dev/model-terms/energy/therm_energy_conv_eff\",\n",
    "    \"https://vocab.sentier.dev/model-terms/electrolyzer/temp_useful_heat\",\n",
    "    \"https://vocab.sentier.dev/model-terms/energy/energy_conv_eff_lhv\",\n",
    "    \"http://openenergy-platform.org/ontology/oeo/OEO_00140049\",\n",
    "    \"https://vocab.sentier.dev/model-terms/electrolyzer/min_stack_temp\",\n",
    "    \"https://vocab.sentier.dev/model-terms/electrolyzer/max_stack_temp\",\n",
    "    \"https://vocab.sentier.dev/model-terms/electrolyzer/max_water_conduc\",\n",
    "    \"https://vocab.sentier.dev/model-terms/electrolyser/max_stack_lifetime\",\n",
    "    \"https://vocab.sentier.dev/model-terms/electrolyser/h2_quality\",\n",
    "    \"https://vocab.sentier.dev/model-terms/electrolyser/h2_pressure\",\n",
    "    \"https://vocab.sentier.dev/model-terms/generic/mass_prod_rate\",\n",
    "]\n",
    "\n",
    "UNITS = [\n",
    "    \"https://www.w3.org/2001/XMLSchema#string\",\n",
    "    \"https://www.w3.org/2001/XMLSchema#string\",\n",
    "    \"https://vocab.sentier.dev/units/unit/KiloW\",\n",
    "    \"https://vocab.sentier.dev/units/unit/KiloW\",\n",
    "    \"https://vocab.sentier.dev/units/unit/KiloW\",\n",
    "    \"https://vocab.sentier.dev/units/unit/V\",\n",
    "    \"https://vocab.sentier.dev/units/unit/M2\",\n",
    "    \"https://vocab.sentier.dev/units/unit/FRACTION\",\n",
    "    \"https://vocab.sentier.dev/units/unit/DEG_C\",\n",
    "    \"https://vocab.sentier.dev/units/unit/DEG_C\",\n",
    "    \"https://vocab.sentier.dev/units/unit/KiloW-HR-PER-KiloGM\",\n",
    "    \"https://vocab.sentier.dev/units/unit/MegaJ-PER-KiloGM\",\n",
    "    \"https://vocab.sentier.dev/units/unit/FRACTION\",\n",
    "    \"https://vocab.sentier.dev/units/unit/DEG_C\",\n",
    "    \"https://vocab.sentier.dev/units/unit/PERCENT\",\n",
    "    \"https://vocab.sentier.dev/units/unit/PERCENT\",\n",
    "    \"https://vocab.sentier.dev/units/unit/DEG_C\",\n",
    "    \"https://vocab.sentier.dev/units/unit/DEG_C\",\n",
    "    \"https://vocab.sentier.dev/units/unit/MicroS-PER-CentiM\",\n",
    "    \"https://vocab.sentier.dev/units/unit/HR\",\n",
    "    \"https://vocab.sentier.dev/units/unit/NUM\",\n",
    "    \"https://vocab.sentier.dev/units/unit/PA\",\n",
    "    \"https://vocab.sentier.dev/units/unit/KiloGM-PER-HR\",\n",
    "]\n",
    "\n",
    "TYPES = [\n",
    "    (\"PEM\", \"https://vocab.sentier.dev/products/pem-electrolyzer\"),\n",
    "    (\"AEC\", \"https://vocab.sentier.dev/products/aec-electrolyzer\"),\n",
    "    (\"SOEC\", \"https://vocab.sentier.dev/products/soel-electrolyzer\"),\n",
    "]\n",
    "\n",
    "LIFETIMES = {\n",
    "    \"https://vocab.sentier.dev/products/pem-electrolyzer\": 20,\n",
    "    \"https://vocab.sentier.dev/products/aec-electrolyzer\": 27.5,\n",
    "    \"https://vocab.sentier.dev/products/soel-electrolyzer\": 20,\n",
    "}\n",
    "\n",
    "PEM_STACK = [\n",
    "    {\n",
    "        \"https://vocab.sentier.dev/model-terms/electrolyser/stack\": 1.00,\n",
    "        \"http://data.europa.eu/xsp/cn2024/760611000010\": 27.00,\n",
    "        \"http://data.europa.eu/xsp/cn2024/810890500080\": 528.00,\n",
    "        \"https://vocab.sentier.dev/products/tetrafluoroethylene\": 16.00,\n",
    "        \"http://data.europa.eu/xsp/cn2024/280300000080\": 4.50,\n",
    "        \"http://data.europa.eu/xsp/cn2024/711041000010\": 0.80,\n",
    "        \"http://data.europa.eu/xsp/cn2024/711019100080\": 0.08,\n",
    "        \"http://data.europa.eu/xsp/cn2024/280300000080\": 4.50,\n",
    "        \"http://data.europa.eu/xsp/cn2024/740900000080\": 4.50,\n",
    "        \"http://data.europa.eu/xsp/cn2024/722000000080\": 100.00,\n",
    "        \"http://data.europa.eu/xsp/cn2024/401693000080\": 4.80,\n",
    "        \"http://data.europa.eu/xsp/cn2024/271600000080\": 103890.77,\n",
    "    }\n",
    "]\n",
    "PEM_STACK_COLUMNS = [\n",
    "    {\n",
    "        \"iri\": \"https://vocab.sentier.dev/model-terms/energy/nom_power_cons\",\n",
    "        \"unit\": \"https://vocab.sentier.dev/units/unit/MegaW\",\n",
    "    },\n",
    "    {\n",
    "        \"iri\": \"http://data.europa.eu/xsp/cn2024/760611000010\",\n",
    "        \"unit\": \"https://vocab.sentier.dev/units/unit/KiloGM\",\n",
    "        \"component\": \"end plate\",\n",
    "    },\n",
    "    {\n",
    "        \"iri\": \"http://data.europa.eu/xsp/cn2024/810890500080\",\n",
    "        \"unit\": \"https://vocab.sentier.dev/units/unit/KiloGM\",\n",
    "        \"component\": \"bipolar plate\",\n",
    "    },\n",
    "    {\n",
    "        \"iri\": \"https://vocab.sentier.dev/products/tetrafluoroethylene\",\n",
    "        \"unit\": \"https://vocab.sentier.dev/units/unit/KiloGM\",\n",
    "        \"comment\": \"membrane polymer\",\n",
    "    },\n",
    "    {\n",
    "        \"iri\": \"http://data.europa.eu/xsp/cn2024/280300000080\",\n",
    "        \"unit\": \"https://vocab.sentier.dev/units/unit/KiloGM\",\n",
    "        \"component\": \"electrocatalyst anode\",\n",
    "    },\n",
    "    {\n",
    "        \"iri\": \"http://data.europa.eu/xsp/cn2024/711041000010\",\n",
    "        \"unit\": \"https://vocab.sentier.dev/units/unit/KiloGM\",\n",
    "        \"component\": \"electrocatalyst anode\",\n",
    "    },\n",
    "    {\n",
    "        \"iri\": \"http://data.europa.eu/xsp/cn2024/711019100080\",\n",
    "        \"unit\": \"https://vocab.sentier.dev/units/unit/KiloGM\",\n",
    "        \"component\": \"electrocatalyst cathode\",\n",
    "    },\n",
    "    {\n",
    "        \"iri\": \"http://data.europa.eu/xsp/cn2024/280300000080\",\n",
    "        \"unit\": \"https://vocab.sentier.dev/units/unit/KiloGM\",\n",
    "        \"component\": \"electrocatalyst cathode\",\n",
    "    },\n",
    "    {\n",
    "        \"iri\": \"http://data.europa.eu/xsp/cn2024/740900000080\",\n",
    "        \"unit\": \"https://vocab.sentier.dev/units/unit/KiloGM\",\n",
    "        \"component\": \"current collector\",\n",
    "    },\n",
    "    {\n",
    "        \"iri\": \"http://data.europa.eu/xsp/cn2024/722000000080\",\n",
    "        \"unit\": \"https://vocab.sentier.dev/units/unit/KiloGM\",\n",
    "        \"comment\": \"bolts and screws\",\n",
    "    },\n",
    "    {\n",
    "        \"iri\": \"http://data.europa.eu/xsp/cn2024/401693000080\",\n",
    "        \"unit\": \"https://vocab.sentier.dev/units/unit/KiloGM\",\n",
    "        \"comment\": \"gasket\",\n",
    "    },\n",
    "    {\n",
    "        \"iri\": \"http://data.europa.eu/xsp/cn2024/271600000080\",\n",
    "        \"unit\": \"https://vocab.sentier.dev/units/unit/KiloW-HR\",\n",
    "        \"comment\": \"assembly energy\",\n",
    "    },\n",
    "]"
   ]
  },
  {
   "cell_type": "code",
   "execution_count": 2,
   "metadata": {},
   "outputs": [],
   "source": [
    "from datetime import date\n",
    "from pathlib import Path\n",
    "\n",
    "import pandas as pd\n",
    "from loguru import logger\n",
    "\n",
    "import sentier_data_tools as sdt"
   ]
  },
  {
   "cell_type": "code",
   "execution_count": 3,
   "metadata": {},
   "outputs": [
    {
     "data": {
      "text/plain": [
       "'1'"
      ]
     },
     "execution_count": 3,
     "metadata": {},
     "output_type": "execute_result"
    }
   ],
   "source": [
    "metadata = sdt.Datapackage(\n",
    "    name=\"electrolyzer data from Premise 2024\",\n",
    "    description=\"Electrolyzer operation and construction inventory data taken from Premise in April 2024.\",\n",
    "    contributors=[\n",
    "        {\n",
    "            \"title\": \"Karin Treyer\",\n",
    "            \"path\": \"https://www.psi.ch/en/ta/people/karin-treyer\",\n",
    "            \"role\": \"author\",\n",
    "        },\n",
    "        {\n",
    "            \"title\": \"Chris Mutel\",\n",
    "            \"path\": \"https://chris.mutel.org/\",\n",
    "            \"role\": \"wrangler\",\n",
    "        },\n",
    "    ],\n",
    "    homepage=\"https://github.com/polca/premise/tree/master/premise/data/additional_inventories\",\n",
    ").metadata()\n",
    "metadata.pop(\"version\")"
   ]
  },
  {
   "cell_type": "code",
   "execution_count": 9,
   "metadata": {},
   "outputs": [],
   "source": [
    "sdt.reset_local_database()\n",
    "\n",
    "df = pd.read_excel(\"electrolyzers.xlsx\")\n",
    "assert len(COLUMNS) == len(UNITS)\n",
    "assert len(COLUMNS) == len(df.columns) - 1"
   ]
  },
  {
   "cell_type": "code",
   "execution_count": 10,
   "metadata": {},
   "outputs": [
    {
     "data": {
      "text/plain": [
       "[('PEM', 'https://vocab.sentier.dev/products/pem-electrolyzer'),\n",
       " ('AEC', 'https://vocab.sentier.dev/products/aec-electrolyzer'),\n",
       " ('SOEC', 'https://vocab.sentier.dev/products/soel-electrolyzer')]"
      ]
     },
     "execution_count": 10,
     "metadata": {},
     "output_type": "execute_result"
    }
   ],
   "source": [
    "TYPES"
   ]
  },
  {
   "cell_type": "code",
   "execution_count": 13,
   "metadata": {},
   "outputs": [
    {
     "data": {
      "text/plain": [
       "('PEM', 'https://vocab.sentier.dev/products/pem-electrolyzer')"
      ]
     },
     "execution_count": 13,
     "metadata": {},
     "output_type": "execute_result"
    }
   ],
   "source": [
    "TYPES[0]"
   ]
  },
  {
   "cell_type": "code",
   "execution_count": 27,
   "metadata": {},
   "outputs": [
    {
     "name": "stderr",
     "output_type": "stream",
     "text": [
      "\u001b[32m2024-10-09 11:36:21.771\u001b[0m | \u001b[1mINFO    \u001b[0m | \u001b[36m__main__\u001b[0m:\u001b[36m<module>\u001b[0m:\u001b[36m3\u001b[0m - \u001b[1mAdding 54 records for type PEM\u001b[0m\n"
     ]
    }
   ],
   "source": [
    "for (kind, iri) in [TYPES[0]]:\n",
    "    filtered = df[df[\"Electrolysis type\"] == kind].copy()\n",
    "    logger.info(\"Adding {} records for type {}\", len(filtered), kind)\n",
    "    filtered.drop(labels=[\"Electrolysis type\"], axis=\"columns\", inplace=True)\n",
    "    filtered.columns = COLUMNS\n",
    "\n",
    "    d = sdt.Dataframe(\n",
    "        name=f\"electrolyser model data for {kind.lower()}\",\n",
    "        data=filtered,\n",
    "        product=iri,\n",
    "        columns=[{\"iri\": x, \"unit\": y} for x, y in zip(COLUMNS, UNITS)],\n",
    "        metadata=metadata,\n",
    "        location=\"https://sws.geonames.org/6255148/\",\n",
    "        version=1,\n",
    "        valid_from=date(2018, 1, 1),\n",
    "        valid_to=date(2028, 1, 1),\n",
    "    )"
   ]
  },
  {
   "cell_type": "code",
   "execution_count": 31,
   "metadata": {},
   "outputs": [
    {
     "ename": "AttributeError",
     "evalue": "'DataFrame' object has no attribute 'to_pandas'",
     "output_type": "error",
     "traceback": [
      "\u001b[0;31m---------------------------------------------------------------------------\u001b[0m",
      "\u001b[0;31mAttributeError\u001b[0m                            Traceback (most recent call last)",
      "\u001b[0;32m/var/folders/l1/k90rhb0j0ns58y35ymznsd700000gn/T/ipykernel_20580/1048659240.py\u001b[0m in \u001b[0;36m?\u001b[0;34m()\u001b[0m\n\u001b[0;32m----> 1\u001b[0;31m \u001b[0md\u001b[0m\u001b[0;34m.\u001b[0m\u001b[0mdataframe\u001b[0m\u001b[0;34m\u001b[0m\u001b[0;34m\u001b[0m\u001b[0m\n\u001b[0m",
      "\u001b[0;32m~/Documents/Coding/sentier_data_tools/sentier_data_tools/local_storage/db.py\u001b[0m in \u001b[0;36m?\u001b[0;34m(self)\u001b[0m\n\u001b[1;32m     56\u001b[0m     \u001b[0;34m@\u001b[0m\u001b[0mproperty\u001b[0m\u001b[0;34m\u001b[0m\u001b[0;34m\u001b[0m\u001b[0m\n\u001b[1;32m     57\u001b[0m     \u001b[0;32mdef\u001b[0m \u001b[0mdataframe\u001b[0m\u001b[0;34m(\u001b[0m\u001b[0mself\u001b[0m\u001b[0;34m)\u001b[0m\u001b[0;34m:\u001b[0m\u001b[0;34m\u001b[0m\u001b[0;34m\u001b[0m\u001b[0m\n\u001b[0;32m---> 58\u001b[0;31m         \u001b[0;32mreturn\u001b[0m \u001b[0mself\u001b[0m\u001b[0;34m.\u001b[0m\u001b[0mdata\u001b[0m\u001b[0;34m.\u001b[0m\u001b[0mto_pandas\u001b[0m\u001b[0;34m(\u001b[0m\u001b[0;34m)\u001b[0m\u001b[0;34m\u001b[0m\u001b[0;34m\u001b[0m\u001b[0m\n\u001b[0m",
      "\u001b[0;32m~/anaconda3/envs/sentier/lib/python3.12/site-packages/pandas/core/generic.py\u001b[0m in \u001b[0;36m?\u001b[0;34m(self, name)\u001b[0m\n\u001b[1;32m   6295\u001b[0m             \u001b[0;32mand\u001b[0m \u001b[0mname\u001b[0m \u001b[0;32mnot\u001b[0m \u001b[0;32min\u001b[0m \u001b[0mself\u001b[0m\u001b[0;34m.\u001b[0m\u001b[0m_accessors\u001b[0m\u001b[0;34m\u001b[0m\u001b[0;34m\u001b[0m\u001b[0m\n\u001b[1;32m   6296\u001b[0m             \u001b[0;32mand\u001b[0m \u001b[0mself\u001b[0m\u001b[0;34m.\u001b[0m\u001b[0m_info_axis\u001b[0m\u001b[0;34m.\u001b[0m\u001b[0m_can_hold_identifiers_and_holds_name\u001b[0m\u001b[0;34m(\u001b[0m\u001b[0mname\u001b[0m\u001b[0;34m)\u001b[0m\u001b[0;34m\u001b[0m\u001b[0;34m\u001b[0m\u001b[0m\n\u001b[1;32m   6297\u001b[0m         \u001b[0;34m)\u001b[0m\u001b[0;34m:\u001b[0m\u001b[0;34m\u001b[0m\u001b[0;34m\u001b[0m\u001b[0m\n\u001b[1;32m   6298\u001b[0m             \u001b[0;32mreturn\u001b[0m \u001b[0mself\u001b[0m\u001b[0;34m[\u001b[0m\u001b[0mname\u001b[0m\u001b[0;34m]\u001b[0m\u001b[0;34m\u001b[0m\u001b[0;34m\u001b[0m\u001b[0m\n\u001b[0;32m-> 6299\u001b[0;31m         \u001b[0;32mreturn\u001b[0m \u001b[0mobject\u001b[0m\u001b[0;34m.\u001b[0m\u001b[0m__getattribute__\u001b[0m\u001b[0;34m(\u001b[0m\u001b[0mself\u001b[0m\u001b[0;34m,\u001b[0m \u001b[0mname\u001b[0m\u001b[0;34m)\u001b[0m\u001b[0;34m\u001b[0m\u001b[0;34m\u001b[0m\u001b[0m\n\u001b[0m",
      "\u001b[0;31mAttributeError\u001b[0m: 'DataFrame' object has no attribute 'to_pandas'"
     ]
    }
   ],
   "source": [
    "d.dataframe"
   ]
  },
  {
   "cell_type": "code",
   "execution_count": 30,
   "metadata": {},
   "outputs": [
    {
     "data": {
      "text/plain": [
       "pandas.core.frame.DataFrame"
      ]
     },
     "execution_count": 30,
     "metadata": {},
     "output_type": "execute_result"
    }
   ],
   "source": [
    "type(d.data)"
   ]
  },
  {
   "cell_type": "code",
   "execution_count": 26,
   "metadata": {},
   "outputs": [
    {
     "data": {
      "text/plain": [
       "[{'iri': 'https://vocab.sentier.dev/model-terms/generic/company',\n",
       "  'unit': 'https://www.w3.org/2001/XMLSchema#string'},\n",
       " {'iri': 'https://vocab.sentier.dev/model-terms/generic/product',\n",
       "  'unit': 'https://www.w3.org/2001/XMLSchema#string'},\n",
       " {'iri': 'https://vocab.sentier.dev/model-terms/energy/min_power_cons',\n",
       "  'unit': 'https://vocab.sentier.dev/units/unit/KiloW'},\n",
       " {'iri': 'https://vocab.sentier.dev/model-terms/energy/nom_power_cons',\n",
       "  'unit': 'https://vocab.sentier.dev/units/unit/KiloW'},\n",
       " {'iri': 'https://vocab.sentier.dev/model-terms/energy/max_power_cons',\n",
       "  'unit': 'https://vocab.sentier.dev/units/unit/KiloW'},\n",
       " {'iri': 'https://vocab.sentier.dev/model-terms/energy/input_voltage',\n",
       "  'unit': 'https://vocab.sentier.dev/units/unit/V'},\n",
       " {'iri': 'https://vocab.sentier.dev/model-terms/generic/footprint_area',\n",
       "  'unit': 'https://vocab.sentier.dev/units/unit/M2'},\n",
       " {'iri': 'https://vocab.sentier.dev/model-terms/generic/availability',\n",
       "  'unit': 'https://vocab.sentier.dev/units/unit/FRACTION'},\n",
       " {'iri': 'https://vocab.sentier.dev/model-terms/electrolyzer/min_amb_temp',\n",
       "  'unit': 'https://vocab.sentier.dev/units/unit/DEG_C'},\n",
       " {'iri': 'https://vocab.sentier.dev/model-terms/electrolyzer/max_amb_temp',\n",
       "  'unit': 'https://vocab.sentier.dev/units/unit/DEG_C'},\n",
       " {'iri': 'https://vocab.sentier.dev/model-terms/energy/elec_energy_serv_dem',\n",
       "  'unit': 'https://vocab.sentier.dev/units/unit/KiloW-HR-PER-KiloGM'},\n",
       " {'iri': 'https://vocab.sentier.dev/model-terms/energy/therm_energy_serv_dem',\n",
       "  'unit': 'https://vocab.sentier.dev/units/unit/MegaJ-PER-KiloGM'},\n",
       " {'iri': 'https://vocab.sentier.dev/model-terms/energy/therm_energy_conv_eff',\n",
       "  'unit': 'https://vocab.sentier.dev/units/unit/FRACTION'},\n",
       " {'iri': 'https://vocab.sentier.dev/model-terms/electrolyzer/temp_useful_heat',\n",
       "  'unit': 'https://vocab.sentier.dev/units/unit/DEG_C'},\n",
       " {'iri': 'https://vocab.sentier.dev/model-terms/energy/energy_conv_eff_lhv',\n",
       "  'unit': 'https://vocab.sentier.dev/units/unit/PERCENT'},\n",
       " {'iri': 'http://openenergy-platform.org/ontology/oeo/OEO_00140049',\n",
       "  'unit': 'https://vocab.sentier.dev/units/unit/PERCENT'},\n",
       " {'iri': 'https://vocab.sentier.dev/model-terms/electrolyzer/min_stack_temp',\n",
       "  'unit': 'https://vocab.sentier.dev/units/unit/DEG_C'},\n",
       " {'iri': 'https://vocab.sentier.dev/model-terms/electrolyzer/max_stack_temp',\n",
       "  'unit': 'https://vocab.sentier.dev/units/unit/DEG_C'},\n",
       " {'iri': 'https://vocab.sentier.dev/model-terms/electrolyzer/max_water_conduc',\n",
       "  'unit': 'https://vocab.sentier.dev/units/unit/MicroS-PER-CentiM'},\n",
       " {'iri': 'https://vocab.sentier.dev/model-terms/electrolyser/max_stack_lifetime',\n",
       "  'unit': 'https://vocab.sentier.dev/units/unit/HR'},\n",
       " {'iri': 'https://vocab.sentier.dev/model-terms/electrolyser/h2_quality',\n",
       "  'unit': 'https://vocab.sentier.dev/units/unit/NUM'},\n",
       " {'iri': 'https://vocab.sentier.dev/model-terms/electrolyser/h2_pressure',\n",
       "  'unit': 'https://vocab.sentier.dev/units/unit/PA'},\n",
       " {'iri': 'https://vocab.sentier.dev/model-terms/generic/mass_prod_rate',\n",
       "  'unit': 'https://vocab.sentier.dev/units/unit/KiloGM-PER-HR'}]"
      ]
     },
     "execution_count": 26,
     "metadata": {},
     "output_type": "execute_result"
    }
   ],
   "source": [
    "d.columns"
   ]
  },
  {
   "cell_type": "code",
   "execution_count": null,
   "metadata": {},
   "outputs": [],
   "source": []
  }
 ],
 "metadata": {
  "kernelspec": {
   "display_name": "sentier",
   "language": "python",
   "name": "python3"
  },
  "language_info": {
   "codemirror_mode": {
    "name": "ipython",
    "version": 3
   },
   "file_extension": ".py",
   "mimetype": "text/x-python",
   "name": "python",
   "nbconvert_exporter": "python",
   "pygments_lexer": "ipython3",
   "version": "3.12.2"
  }
 },
 "nbformat": 4,
 "nbformat_minor": 2
}
