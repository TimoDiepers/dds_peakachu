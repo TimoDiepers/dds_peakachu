{
 "cells": [
  {
   "cell_type": "code",
   "execution_count": 57,
   "metadata": {},
   "outputs": [],
   "source": [
    "import pandas as pd\n",
    "import sentier_data_tools as sdt\n",
    "import sentier_data_tools.local_storage as ls\n",
    "import sys, os, io\n",
    "\n",
    "path = r\"C:\\Users\\misc\\Documents\\DdS\\power2\\DATA\\electricity-generation_emissions_sources.xlsx\""
   ]
  },
  {
   "cell_type": "code",
   "execution_count": 38,
   "metadata": {},
   "outputs": [],
   "source": [
    "trace_frame = pd.read_excel(path,\"electricity-generation_emission\").set_index(\"source_id\")"
   ]
  },
  {
   "cell_type": "code",
   "execution_count": 39,
   "metadata": {},
   "outputs": [],
   "source": [
    "fuel_types = [\"oil\",\"gas\",\"other_fossil\",\"coal\",\"biomass\",\"waste\"]"
   ]
  },
  {
   "cell_type": "code",
   "execution_count": 40,
   "metadata": {},
   "outputs": [],
   "source": [
    "cols_to_keep = [\"source_name\",\"source_type\",\"iso3_country\",\"start_time\",\"end_time\",\"activity\",\"activity_units\",\"emissions_factor\",\"emissions_factor_units\",\"capacity\",\"capacity_units\",\"capacity_factor\",\"other2\",\"other3\",\"other4\"]"
   ]
  },
  {
   "cell_type": "markdown",
   "metadata": {},
   "source": [
    "for country:\n",
    "\n",
    "    for fueltype:\n",
    "\n",
    "        df = trace.filter(country + fuel)\n",
    "\n",
    "        multindex time_to time_from plant_iri | co2 | ch4 | nox | activity | capacity \n",
    "\n",
    "\n",
    "country generator:\n",
    "\n",
    "https://www.geonames.org/countries/(ISO2)/(Country.tolower).html\n",
    "\n",
    "url = r\"https://www.geonames.org/countries/\" + row.ISO2 + r\"/\" + row.Country.to_lower() + r\".html\""
   ]
  },
  {
   "cell_type": "code",
   "execution_count": 41,
   "metadata": {},
   "outputs": [],
   "source": [
    "country_lookup : dict[str, str] = {}\n",
    "country_codes = []\n",
    "country_list = pd.read_excel(r\"C:\\Users\\misc\\Documents\\DdS\\iso_countries.xlsx\")"
   ]
  },
  {
   "cell_type": "code",
   "execution_count": 42,
   "metadata": {},
   "outputs": [],
   "source": [
    "for row in country_list.itertuples(index=True):\n",
    "    url = r\"https://www.geonames.org/countries/\" + str(row.ISO2) + r\"/\" + str(row.Country.lower().replace(\" \", \"-\").replace(\",\",\"\")) + r\".html\"\n",
    "    country_lookup[row.ISO3] = url\n",
    "    country_codes.append(row.ISO3)"
   ]
  },
  {
   "cell_type": "code",
   "execution_count": 65,
   "metadata": {},
   "outputs": [],
   "source": [
    "big_list: list[pd.DataFrame] = []\n",
    "\n",
    "for fuel in fuel_types:\n",
    "    for country in country_codes:\n",
    "        filtered_df = trace_frame.loc[(trace_frame[\"source_type\"] == fuel) & (trace_frame[\"iso3_country\"] == country) & (trace_frame[\"gas\"] == \"co2\")]\n",
    "        if filtered_df.__len__() > 0:           \n",
    "            reshaped_df = filtered_df[[\"start_time\", \"end_time\",\"source_name\", \"activity\",\"capacity\",\"emissions_quantity\"]]\n",
    "            reshaped_df.to_excel(r\"C:\\Users\\misc\\Documents\\DdS\\floop\\\\\" + fuel + \"_\" + country + \".xlsx\")\n",
    "            big_list.append(reshaped_df)"
   ]
  },
  {
   "cell_type": "code",
   "execution_count": 56,
   "metadata": {},
   "outputs": [],
   "source": []
  }
 ],
 "metadata": {
  "kernelspec": {
   "display_name": ".venv",
   "language": "python",
   "name": "python3"
  },
  "language_info": {
   "codemirror_mode": {
    "name": "ipython",
    "version": 3
   },
   "file_extension": ".py",
   "mimetype": "text/x-python",
   "name": "python",
   "nbconvert_exporter": "python",
   "pygments_lexer": "ipython3",
   "version": "3.12.2"
  }
 },
 "nbformat": 4,
 "nbformat_minor": 2
}
