{
 "cells": [
  {
   "cell_type": "code",
   "execution_count": 10,
   "metadata": {},
   "outputs": [],
   "source": [
    "import polars as pl\n",
    "path = r\"C:\\Users\\misc\\Downloads\\allCountries\\allCountries.txt\""
   ]
  },
  {
   "cell_type": "code",
   "execution_count": 11,
   "metadata": {},
   "outputs": [],
   "source": [
    "schema = pl.Schema({\n",
    "    \"geonameid\":pl.Int64,\n",
    "    \"name\":pl.String,\n",
    "    \"asciiname\":pl.String,\n",
    "    \"alternatenames\":pl.String,\n",
    "    \"latitude\":pl.Float32,\n",
    "    \"longitude\":pl.Float32,\n",
    "    \"feature_class\":pl.String,\n",
    "    \"feature_code\":pl.String,\n",
    "    \"country_code\":pl.String,\n",
    "    \"cc2\":pl.String,\n",
    "    \"admin1_code\":pl.String,\n",
    "    \"admin2_code\":pl.String,\n",
    "    \"admin3_code\":pl.String,\n",
    "    \"admin4_code\":pl.String,\n",
    "    \"population\":pl.Int64,\n",
    "    \"elevation\":pl.Int16,\n",
    "    \"dem\":pl.Int64,\n",
    "    \"timezone\":pl.String,\n",
    "    \"modification_date\":pl.Date\n",
    "})"
   ]
  },
  {
   "cell_type": "code",
   "execution_count": 12,
   "metadata": {},
   "outputs": [],
   "source": [
    "world_frame = pl.scan_csv(source=path,has_header=False,separator='\\t',schema=schema)"
   ]
  },
  {
   "cell_type": "code",
   "execution_count": 13,
   "metadata": {},
   "outputs": [
    {
     "data": {
      "text/html": [
       "<div><style>\n",
       ".dataframe > thead > tr,\n",
       ".dataframe > tbody > tr {\n",
       "  text-align: right;\n",
       "  white-space: pre-wrap;\n",
       "}\n",
       "</style>\n",
       "<small>shape: (193, 19)</small><table border=\"1\" class=\"dataframe\"><thead><tr><th>geonameid</th><th>name</th><th>asciiname</th><th>alternatenames</th><th>latitude</th><th>longitude</th><th>feature_class</th><th>feature_code</th><th>country_code</th><th>cc2</th><th>admin1_code</th><th>admin2_code</th><th>admin3_code</th><th>admin4_code</th><th>population</th><th>elevation</th><th>dem</th><th>timezone</th><th>modification_date</th></tr><tr><td>i64</td><td>str</td><td>str</td><td>str</td><td>f32</td><td>f32</td><td>str</td><td>str</td><td>str</td><td>str</td><td>str</td><td>str</td><td>str</td><td>str</td><td>i64</td><td>i16</td><td>i64</td><td>str</td><td>date</td></tr></thead><tbody><tr><td>3041565</td><td>&quot;Principality of Andorra&quot;</td><td>&quot;Principality of Andorra&quot;</td><td>&quot;&#x27;Anitola,&#x27;Enitola,Aandora,Ando…</td><td>42.549999</td><td>1.58333</td><td>&quot;A&quot;</td><td>&quot;PCLI&quot;</td><td>&quot;AD&quot;</td><td>null</td><td>&quot;00&quot;</td><td>null</td><td>null</td><td>null</td><td>77006</td><td>null</td><td>1802</td><td>&quot;Europe/Andorra&quot;</td><td>2021-08-21</td></tr><tr><td>290557</td><td>&quot;United Arab Emirates&quot;</td><td>&quot;United Arab Emirates&quot;</td><td>&quot;&#x27;Alepea Fakatahataha,A-la-baik…</td><td>23.75</td><td>54.5</td><td>&quot;A&quot;</td><td>&quot;PCLI&quot;</td><td>&quot;AE&quot;</td><td>null</td><td>&quot;00&quot;</td><td>null</td><td>null</td><td>null</td><td>9630959</td><td>null</td><td>96</td><td>&quot;Asia/Dubai&quot;</td><td>2024-09-05</td></tr><tr><td>1149361</td><td>&quot;Islamic Republic of Afghanista…</td><td>&quot;Islamic Republic of Afghanista…</td><td>&quot;&#x27;Afikanisitani,&#x27;Apekanikana,A …</td><td>33.0</td><td>66.0</td><td>&quot;A&quot;</td><td>&quot;PCLI&quot;</td><td>&quot;AF&quot;</td><td>null</td><td>&quot;00&quot;</td><td>null</td><td>null</td><td>null</td><td>37172386</td><td>null</td><td>2260</td><td>&quot;Asia/Kabul&quot;</td><td>2024-07-23</td></tr><tr><td>3576396</td><td>&quot;Antigua and Barbuda&quot;</td><td>&quot;Antigua and Barbuda&quot;</td><td>&quot;Aantigua ati Baribuda,Aintige …</td><td>17.049999</td><td>-61.799999</td><td>&quot;A&quot;</td><td>&quot;PCLI&quot;</td><td>&quot;AG&quot;</td><td>null</td><td>&quot;00&quot;</td><td>null</td><td>null</td><td>null</td><td>96286</td><td>null</td><td>65</td><td>&quot;America/Antigua&quot;</td><td>2024-09-05</td></tr><tr><td>783754</td><td>&quot;Republic of Albania&quot;</td><td>&quot;Republic of Albania&quot;</td><td>&quot;&#x27;Alipania,AL,Al&#x27;banija,Albaani…</td><td>41.0</td><td>20.0</td><td>&quot;A&quot;</td><td>&quot;PCLI&quot;</td><td>&quot;AL&quot;</td><td>null</td><td>&quot;00&quot;</td><td>null</td><td>null</td><td>null</td><td>2866376</td><td>null</td><td>89</td><td>&quot;Europe/Tirane&quot;</td><td>2024-09-05</td></tr><tr><td>&hellip;</td><td>&hellip;</td><td>&hellip;</td><td>&hellip;</td><td>&hellip;</td><td>&hellip;</td><td>&hellip;</td><td>&hellip;</td><td>&hellip;</td><td>&hellip;</td><td>&hellip;</td><td>&hellip;</td><td>&hellip;</td><td>&hellip;</td><td>&hellip;</td><td>&hellip;</td><td>&hellip;</td><td>&hellip;</td><td>&hellip;</td></tr><tr><td>831053</td><td>&quot;Republic of Kosovo&quot;</td><td>&quot;Republic of Kosovo&quot;</td><td>&quot;A&#x27; Chosobho,Autonomna Pokrajin…</td><td>42.583328</td><td>20.91667</td><td>&quot;A&quot;</td><td>&quot;PCLI&quot;</td><td>&quot;XK&quot;</td><td>null</td><td>&quot;00&quot;</td><td>null</td><td>null</td><td>null</td><td>1845300</td><td>null</td><td>600</td><td>&quot;Europe/Belgrade&quot;</td><td>2021-09-10</td></tr><tr><td>69543</td><td>&quot;Republic of Yemen&quot;</td><td>&quot;Republic of Yemen&quot;</td><td>&quot;Al Jumhuriyah al Yamaniyah,Al …</td><td>15.5</td><td>47.5</td><td>&quot;A&quot;</td><td>&quot;PCLI&quot;</td><td>&quot;YE&quot;</td><td>null</td><td>&quot;00&quot;</td><td>null</td><td>null</td><td>null</td><td>28498687</td><td>null</td><td>1421</td><td>&quot;Asia/Aden&quot;</td><td>2024-09-05</td></tr><tr><td>953987</td><td>&quot;South Africa&quot;</td><td>&quot;South Africa&quot;</td><td>&quot;&#x27;Afilika tonga,Aferika Borwa,A…</td><td>-29.0</td><td>24.0</td><td>&quot;A&quot;</td><td>&quot;PCLI&quot;</td><td>&quot;ZA&quot;</td><td>null</td><td>&quot;00&quot;</td><td>null</td><td>null</td><td>null</td><td>57779622</td><td>null</td><td>1037</td><td>&quot;Africa/Johannesburg&quot;</td><td>2023-12-09</td></tr><tr><td>895949</td><td>&quot;Republic of Zambia&quot;</td><td>&quot;Republic of Zambia&quot;</td><td>&quot;Dam-bi-a,Dam-bi-a (Zambia),Dăm…</td><td>-14.33333</td><td>28.5</td><td>&quot;A&quot;</td><td>&quot;PCLI&quot;</td><td>&quot;ZM&quot;</td><td>null</td><td>&quot;00&quot;</td><td>null</td><td>null</td><td>null</td><td>17351822</td><td>null</td><td>1156</td><td>&quot;Africa/Lusaka&quot;</td><td>2021-08-16</td></tr><tr><td>878675</td><td>&quot;Republic of Zimbabwe&quot;</td><td>&quot;Republic of Zimbabwe&quot;</td><td>&quot;An t-Siombab,An t-Sìombab,Colo…</td><td>-19.0</td><td>29.75</td><td>&quot;A&quot;</td><td>&quot;PCLI&quot;</td><td>&quot;ZW&quot;</td><td>null</td><td>&quot;00&quot;</td><td>null</td><td>null</td><td>null</td><td>14439018</td><td>null</td><td>1285</td><td>&quot;Africa/Harare&quot;</td><td>2021-08-16</td></tr></tbody></table></div>"
      ],
      "text/plain": [
       "shape: (193, 19)\n",
       "┌───────────┬────────────┬────────────┬────────────┬───┬───────────┬──────┬────────────┬───────────┐\n",
       "│ geonameid ┆ name       ┆ asciiname  ┆ alternaten ┆ … ┆ elevation ┆ dem  ┆ timezone   ┆ modificat │\n",
       "│ ---       ┆ ---        ┆ ---        ┆ ames       ┆   ┆ ---       ┆ ---  ┆ ---        ┆ ion_date  │\n",
       "│ i64       ┆ str        ┆ str        ┆ ---        ┆   ┆ i16       ┆ i64  ┆ str        ┆ ---       │\n",
       "│           ┆            ┆            ┆ str        ┆   ┆           ┆      ┆            ┆ date      │\n",
       "╞═══════════╪════════════╪════════════╪════════════╪═══╪═══════════╪══════╪════════════╪═══════════╡\n",
       "│ 3041565   ┆ Principali ┆ Principali ┆ 'Anitola,' ┆ … ┆ null      ┆ 1802 ┆ Europe/And ┆ 2021-08-2 │\n",
       "│           ┆ ty of      ┆ ty of      ┆ Enitola,Aa ┆   ┆           ┆      ┆ orra       ┆ 1         │\n",
       "│           ┆ Andorra    ┆ Andorra    ┆ ndora,Ando ┆   ┆           ┆      ┆            ┆           │\n",
       "│           ┆            ┆            ┆ …          ┆   ┆           ┆      ┆            ┆           │\n",
       "│ 290557    ┆ United     ┆ United     ┆ 'Alepea    ┆ … ┆ null      ┆ 96   ┆ Asia/Dubai ┆ 2024-09-0 │\n",
       "│           ┆ Arab       ┆ Arab       ┆ Fakatahata ┆   ┆           ┆      ┆            ┆ 5         │\n",
       "│           ┆ Emirates   ┆ Emirates   ┆ ha,A-la-ba ┆   ┆           ┆      ┆            ┆           │\n",
       "│           ┆            ┆            ┆ ik…        ┆   ┆           ┆      ┆            ┆           │\n",
       "│ 1149361   ┆ Islamic    ┆ Islamic    ┆ 'Afikanisi ┆ … ┆ null      ┆ 2260 ┆ Asia/Kabul ┆ 2024-07-2 │\n",
       "│           ┆ Republic   ┆ Republic   ┆ tani,'Apek ┆   ┆           ┆      ┆            ┆ 3         │\n",
       "│           ┆ of Afghani ┆ of Afghani ┆ anikana,A  ┆   ┆           ┆      ┆            ┆           │\n",
       "│           ┆ sta…       ┆ sta…       ┆ …          ┆   ┆           ┆      ┆            ┆           │\n",
       "│ 3576396   ┆ Antigua    ┆ Antigua    ┆ Aantigua   ┆ … ┆ null      ┆ 65   ┆ America/An ┆ 2024-09-0 │\n",
       "│           ┆ and        ┆ and        ┆ ati Baribu ┆   ┆           ┆      ┆ tigua      ┆ 5         │\n",
       "│           ┆ Barbuda    ┆ Barbuda    ┆ da,Aintige ┆   ┆           ┆      ┆            ┆           │\n",
       "│           ┆            ┆            ┆ …          ┆   ┆           ┆      ┆            ┆           │\n",
       "│ 783754    ┆ Republic   ┆ Republic   ┆ 'Alipania, ┆ … ┆ null      ┆ 89   ┆ Europe/Tir ┆ 2024-09-0 │\n",
       "│           ┆ of Albania ┆ of Albania ┆ AL,Al'bani ┆   ┆           ┆      ┆ ane        ┆ 5         │\n",
       "│           ┆            ┆            ┆ ja,Albaani ┆   ┆           ┆      ┆            ┆           │\n",
       "│           ┆            ┆            ┆ …          ┆   ┆           ┆      ┆            ┆           │\n",
       "│ …         ┆ …          ┆ …          ┆ …          ┆ … ┆ …         ┆ …    ┆ …          ┆ …         │\n",
       "│ 831053    ┆ Republic   ┆ Republic   ┆ A' Chosobh ┆ … ┆ null      ┆ 600  ┆ Europe/Bel ┆ 2021-09-1 │\n",
       "│           ┆ of Kosovo  ┆ of Kosovo  ┆ o,Autonomn ┆   ┆           ┆      ┆ grade      ┆ 0         │\n",
       "│           ┆            ┆            ┆ a          ┆   ┆           ┆      ┆            ┆           │\n",
       "│           ┆            ┆            ┆ Pokrajin…  ┆   ┆           ┆      ┆            ┆           │\n",
       "│ 69543     ┆ Republic   ┆ Republic   ┆ Al         ┆ … ┆ null      ┆ 1421 ┆ Asia/Aden  ┆ 2024-09-0 │\n",
       "│           ┆ of Yemen   ┆ of Yemen   ┆ Jumhuriyah ┆   ┆           ┆      ┆            ┆ 5         │\n",
       "│           ┆            ┆            ┆ al Yamaniy ┆   ┆           ┆      ┆            ┆           │\n",
       "│           ┆            ┆            ┆ ah,Al …    ┆   ┆           ┆      ┆            ┆           │\n",
       "│ 953987    ┆ South      ┆ South      ┆ 'Afilika   ┆ … ┆ null      ┆ 1037 ┆ Africa/Joh ┆ 2023-12-0 │\n",
       "│           ┆ Africa     ┆ Africa     ┆ tonga,Afer ┆   ┆           ┆      ┆ annesburg  ┆ 9         │\n",
       "│           ┆            ┆            ┆ ika        ┆   ┆           ┆      ┆            ┆           │\n",
       "│           ┆            ┆            ┆ Borwa,A…   ┆   ┆           ┆      ┆            ┆           │\n",
       "│ 895949    ┆ Republic   ┆ Republic   ┆ Dam-bi-a,D ┆ … ┆ null      ┆ 1156 ┆ Africa/Lus ┆ 2021-08-1 │\n",
       "│           ┆ of Zambia  ┆ of Zambia  ┆ am-bi-a    ┆   ┆           ┆      ┆ aka        ┆ 6         │\n",
       "│           ┆            ┆            ┆ (Zambia),D ┆   ┆           ┆      ┆            ┆           │\n",
       "│           ┆            ┆            ┆ ăm…        ┆   ┆           ┆      ┆            ┆           │\n",
       "│ 878675    ┆ Republic   ┆ Republic   ┆ An t-Siomb ┆ … ┆ null      ┆ 1285 ┆ Africa/Har ┆ 2021-08-1 │\n",
       "│           ┆ of         ┆ of         ┆ ab,An t-Sì ┆   ┆           ┆      ┆ are        ┆ 6         │\n",
       "│           ┆ Zimbabwe   ┆ Zimbabwe   ┆ ombab,Colo ┆   ┆           ┆      ┆            ┆           │\n",
       "│           ┆            ┆            ┆ …          ┆   ┆           ┆      ┆            ┆           │\n",
       "└───────────┴────────────┴────────────┴────────────┴───┴───────────┴──────┴────────────┴───────────┘"
      ]
     },
     "execution_count": 13,
     "metadata": {},
     "output_type": "execute_result"
    }
   ],
   "source": [
    "all_all = world_frame.sql(\"SELECT * from self where admin1_code='00' and feature_code = 'PCLI'\").collect()\n",
    "all_all"
   ]
  },
  {
   "cell_type": "code",
   "execution_count": 14,
   "metadata": {},
   "outputs": [
    {
     "data": {
      "text/html": [
       "<div><style>\n",
       ".dataframe > thead > tr,\n",
       ".dataframe > tbody > tr {\n",
       "  text-align: right;\n",
       "  white-space: pre-wrap;\n",
       "}\n",
       "</style>\n",
       "<small>shape: (191, 2)</small><table border=\"1\" class=\"dataframe\"><thead><tr><th>ISO2</th><th>geonameid</th></tr><tr><td>str</td><td>i64</td></tr></thead><tbody><tr><td>&quot;AD&quot;</td><td>3041565</td></tr><tr><td>&quot;AE&quot;</td><td>290557</td></tr><tr><td>&quot;AF&quot;</td><td>1149361</td></tr><tr><td>&quot;AG&quot;</td><td>3576396</td></tr><tr><td>&quot;AL&quot;</td><td>783754</td></tr><tr><td>&hellip;</td><td>&hellip;</td></tr><tr><td>&quot;XK&quot;</td><td>831053</td></tr><tr><td>&quot;YE&quot;</td><td>69543</td></tr><tr><td>&quot;ZA&quot;</td><td>953987</td></tr><tr><td>&quot;ZM&quot;</td><td>895949</td></tr><tr><td>&quot;ZW&quot;</td><td>878675</td></tr></tbody></table></div>"
      ],
      "text/plain": [
       "shape: (191, 2)\n",
       "┌──────┬───────────┐\n",
       "│ ISO2 ┆ geonameid │\n",
       "│ ---  ┆ ---       │\n",
       "│ str  ┆ i64       │\n",
       "╞══════╪═══════════╡\n",
       "│ AD   ┆ 3041565   │\n",
       "│ AE   ┆ 290557    │\n",
       "│ AF   ┆ 1149361   │\n",
       "│ AG   ┆ 3576396   │\n",
       "│ AL   ┆ 783754    │\n",
       "│ …    ┆ …         │\n",
       "│ XK   ┆ 831053    │\n",
       "│ YE   ┆ 69543     │\n",
       "│ ZA   ┆ 953987    │\n",
       "│ ZM   ┆ 895949    │\n",
       "│ ZW   ┆ 878675    │\n",
       "└──────┴───────────┘"
      ]
     },
     "execution_count": 14,
     "metadata": {},
     "output_type": "execute_result"
    }
   ],
   "source": [
    "friendo = world_frame.sql(\"SELECT country_code AS ISO2, geonameid FROM self where admin1_code='00' and feature_code = 'PCLI'\").collect()\n",
    "friendo"
   ]
  },
  {
   "cell_type": "code",
   "execution_count": 15,
   "metadata": {},
   "outputs": [],
   "source": [
    "country_list = pl.read_excel(r\"..\\\\docs\\iso_countries.xlsx\")"
   ]
  },
  {
   "cell_type": "code",
   "execution_count": 16,
   "metadata": {},
   "outputs": [],
   "source": [
    "snarg= friendo.join(country_list,on=\"ISO2\")"
   ]
  },
  {
   "cell_type": "code",
   "execution_count": 17,
   "metadata": {},
   "outputs": [],
   "source": [
    "snarg.write_csv(\"..\\\\docs\\\\iso_iri_table.csv\",separator=\"\\t\")"
   ]
  },
  {
   "cell_type": "code",
   "execution_count": 21,
   "metadata": {},
   "outputs": [
    {
     "name": "stdout",
     "output_type": "stream",
     "text": [
      "2623032\n"
     ]
    }
   ],
   "source": [
    "geonameid_base = \"https://sws.geonames.org/\"\n",
    "lookup_file = \"../docs/iso_iri_table.csv\"\n",
    "lookup_separator = \"\\t\"\n",
    "code = \"DNK\"\n",
    "lookup = pl.scan_csv(lookup_file, separator=lookup_separator)\n",
    "id = lookup.sql(f\"SELECT geonameid FROM self WHERE ISO3 = '{code}'\").collect().item(0,0)\n",
    "return geonameid_base + id + \"/\""
   ]
  },
  {
   "cell_type": "code",
   "execution_count": 10,
   "metadata": {},
   "outputs": [],
   "source": [
    "import polars as pl\n",
    "\n",
    "geonameid_base = \"https://sws.geonames.org/\"\n",
    "lookup_file = \"../docs/iso_iri_table.csv\"\n",
    "lookup_separator = \"\\t\"\n",
    "\n",
    "def ISO_Lookup(code: str) -> str:\n",
    "    lookup = pl.scan_csv(lookup_file, separator=lookup_separator)\n",
    "    if len(code) == 3:\n",
    "        id = lookup.sql(f\"SELECT geonameid FROM self WHERE ISO3 = '{code}'\").collect().item(0,0)\n",
    "    elif len(code) == 2:\n",
    "        id = lookup.sql(f\"SELECT geonameid FROM self WHERE ISO2 = '{code}'\").collect().item(0,0)\n",
    "    else:\n",
    "        raise ValueError('Please use a two or three digit ISO code')\n",
    "\n",
    "    return geonameid_base + str(id) + \"/\"\n"
   ]
  },
  {
   "cell_type": "code",
   "execution_count": 14,
   "metadata": {},
   "outputs": [
    {
     "ename": "IndexError",
     "evalue": "index 0 is out of bounds for sequence of length 0",
     "output_type": "error",
     "traceback": [
      "\u001b[1;31m---------------------------------------------------------------------------\u001b[0m",
      "\u001b[1;31mIndexError\u001b[0m                                Traceback (most recent call last)",
      "Cell \u001b[1;32mIn[14], line 1\u001b[0m\n\u001b[1;32m----> 1\u001b[0m \u001b[38;5;28mprint\u001b[39m(\u001b[43mISO_Lookup\u001b[49m\u001b[43m(\u001b[49m\u001b[38;5;124;43m\"\u001b[39;49m\u001b[38;5;124;43mDK\u001b[39;49m\u001b[38;5;124;43m\"\u001b[39;49m\u001b[43m)\u001b[49m)\n",
      "Cell \u001b[1;32mIn[10], line 12\u001b[0m, in \u001b[0;36mISO_Lookup\u001b[1;34m(code)\u001b[0m\n\u001b[0;32m     10\u001b[0m     \u001b[38;5;28mid\u001b[39m \u001b[38;5;241m=\u001b[39m lookup\u001b[38;5;241m.\u001b[39msql(\u001b[38;5;124mf\u001b[39m\u001b[38;5;124m\"\u001b[39m\u001b[38;5;124mSELECT geonameid FROM self WHERE ISO3 = \u001b[39m\u001b[38;5;124m'\u001b[39m\u001b[38;5;132;01m{\u001b[39;00mcode\u001b[38;5;132;01m}\u001b[39;00m\u001b[38;5;124m'\u001b[39m\u001b[38;5;124m\"\u001b[39m)\u001b[38;5;241m.\u001b[39mcollect()\u001b[38;5;241m.\u001b[39mitem(\u001b[38;5;241m0\u001b[39m,\u001b[38;5;241m0\u001b[39m)\n\u001b[0;32m     11\u001b[0m \u001b[38;5;28;01melif\u001b[39;00m \u001b[38;5;28mlen\u001b[39m(code) \u001b[38;5;241m==\u001b[39m \u001b[38;5;241m2\u001b[39m:\n\u001b[1;32m---> 12\u001b[0m     \u001b[38;5;28mid\u001b[39m \u001b[38;5;241m=\u001b[39m \u001b[43mlookup\u001b[49m\u001b[38;5;241;43m.\u001b[39;49m\u001b[43msql\u001b[49m\u001b[43m(\u001b[49m\u001b[38;5;124;43mf\u001b[39;49m\u001b[38;5;124;43m\"\u001b[39;49m\u001b[38;5;124;43mSELECT geonameid FROM self WHERE ISO3 = \u001b[39;49m\u001b[38;5;124;43m'\u001b[39;49m\u001b[38;5;132;43;01m{\u001b[39;49;00m\u001b[43mcode\u001b[49m\u001b[38;5;132;43;01m}\u001b[39;49;00m\u001b[38;5;124;43m'\u001b[39;49m\u001b[38;5;124;43m\"\u001b[39;49m\u001b[43m)\u001b[49m\u001b[38;5;241;43m.\u001b[39;49m\u001b[43mcollect\u001b[49m\u001b[43m(\u001b[49m\u001b[43m)\u001b[49m\u001b[38;5;241;43m.\u001b[39;49m\u001b[43mitem\u001b[49m\u001b[43m(\u001b[49m\u001b[38;5;241;43m0\u001b[39;49m\u001b[43m,\u001b[49m\u001b[38;5;241;43m0\u001b[39;49m\u001b[43m)\u001b[49m\n\u001b[0;32m     13\u001b[0m \u001b[38;5;28;01melse\u001b[39;00m:\n\u001b[0;32m     14\u001b[0m     \u001b[38;5;28;01mraise\u001b[39;00m \u001b[38;5;167;01mValueError\u001b[39;00m(\u001b[38;5;124m'\u001b[39m\u001b[38;5;124mPlease use a two or three digit ISO code\u001b[39m\u001b[38;5;124m'\u001b[39m)\n",
      "File \u001b[1;32mc:\\git\\sentier_peakachu\\.venv\\Lib\\site-packages\\polars\\dataframe\\frame.py:1561\u001b[0m, in \u001b[0;36mDataFrame.item\u001b[1;34m(self, row, column)\u001b[0m\n\u001b[0;32m   1554\u001b[0m     \u001b[38;5;28;01mraise\u001b[39;00m \u001b[38;5;167;01mValueError\u001b[39;00m(msg)\n\u001b[0;32m   1556\u001b[0m s \u001b[38;5;241m=\u001b[39m (\n\u001b[0;32m   1557\u001b[0m     \u001b[38;5;28mself\u001b[39m\u001b[38;5;241m.\u001b[39m_df\u001b[38;5;241m.\u001b[39mto_series(column)\n\u001b[0;32m   1558\u001b[0m     \u001b[38;5;28;01mif\u001b[39;00m \u001b[38;5;28misinstance\u001b[39m(column, \u001b[38;5;28mint\u001b[39m)\n\u001b[0;32m   1559\u001b[0m     \u001b[38;5;28;01melse\u001b[39;00m \u001b[38;5;28mself\u001b[39m\u001b[38;5;241m.\u001b[39m_df\u001b[38;5;241m.\u001b[39mget_column(column)\n\u001b[0;32m   1560\u001b[0m )\n\u001b[1;32m-> 1561\u001b[0m \u001b[38;5;28;01mreturn\u001b[39;00m \u001b[43ms\u001b[49m\u001b[38;5;241;43m.\u001b[39;49m\u001b[43mget_index_signed\u001b[49m\u001b[43m(\u001b[49m\u001b[43mrow\u001b[49m\u001b[43m)\u001b[49m\n",
      "\u001b[1;31mIndexError\u001b[0m: index 0 is out of bounds for sequence of length 0"
     ]
    }
   ],
   "source": [
    "print(ISO_Lookup(\"DK\"))"
   ]
  }
 ],
 "metadata": {
  "kernelspec": {
   "display_name": ".venv",
   "language": "python",
   "name": "python3"
  },
  "language_info": {
   "codemirror_mode": {
    "name": "ipython",
    "version": 3
   },
   "file_extension": ".py",
   "mimetype": "text/x-python",
   "name": "python",
   "nbconvert_exporter": "python",
   "pygments_lexer": "ipython3",
   "version": "3.12.2"
  }
 },
 "nbformat": 4,
 "nbformat_minor": 2
}
