{
 "cells": [
  {
   "cell_type": "code",
   "execution_count": 1,
   "id": "015acdf8-1e67-4495-95aa-8e40eee8efc3",
   "metadata": {},
   "outputs": [],
   "source": [
    "import sentier_data_tools as sdt\n",
    "from sentier_data_tools.unit_conversion import *\n",
    "from sentier_data_tools.example import WaterElectrolysisModel, create_example_local_datastorage"
   ]
  },
  {
   "cell_type": "code",
   "execution_count": 2,
   "id": "9670b9b8-4c34-4140-b469-40fbfd0f4b6c",
   "metadata": {},
   "outputs": [
    {
     "data": {
      "text/plain": [
       "1.6744276387723765e-25"
      ]
     },
     "execution_count": 2,
     "metadata": {},
     "output_type": "execute_result"
    }
   ],
   "source": [
    "get_conversion_factor(\n",
    "    \"https://vocab.sentier.dev/units/unit/KiloGM\", \n",
    "    \"https://vocab.sentier.dev/units/unit/EarthMass\"\n",
    ")"
   ]
  },
  {
   "cell_type": "code",
   "execution_count": 3,
   "id": "517e80d6-8ca7-4197-b3bf-7c4df821e470",
   "metadata": {
    "scrolled": true
   },
   "outputs": [],
   "source": [
    "# Raises an error (expected)\n",
    "# get_conversion_factor(\"https://vocab.sentier.dev/units/unit/KiloGM\", \"https://vocab.sentier.dev/units/unit/V\")"
   ]
  },
  {
   "cell_type": "code",
   "execution_count": 4,
   "id": "06080a1f-54bb-49b6-9ec5-62193b47f51e",
   "metadata": {},
   "outputs": [
    {
     "name": "stderr",
     "output_type": "stream",
     "text": [
      "\u001b[32m2024-10-09 23:31:09.200\u001b[0m | \u001b[1mINFO    \u001b[0m | \u001b[36msentier_data_tools.example.data\u001b[0m:\u001b[36mcreate_example_local_datastorage\u001b[0m:\u001b[36m39\u001b[0m - \u001b[1mAdding 54 records for type PEM\u001b[0m\n",
      "\u001b[32m2024-10-09 23:31:09.235\u001b[0m | \u001b[1mINFO    \u001b[0m | \u001b[36msentier_data_tools.example.data\u001b[0m:\u001b[36mcreate_example_local_datastorage\u001b[0m:\u001b[36m39\u001b[0m - \u001b[1mAdding 36 records for type AEC\u001b[0m\n",
      "\u001b[32m2024-10-09 23:31:09.237\u001b[0m | \u001b[1mINFO    \u001b[0m | \u001b[36msentier_data_tools.example.data\u001b[0m:\u001b[36mcreate_example_local_datastorage\u001b[0m:\u001b[36m39\u001b[0m - \u001b[1mAdding 3 records for type SOEC\u001b[0m\n"
     ]
    }
   ],
   "source": [
    "create_example_local_datastorage()"
   ]
  },
  {
   "cell_type": "code",
   "execution_count": 5,
   "id": "322eeb5c-d9d2-4b81-82e0-bdd4c535a223",
   "metadata": {},
   "outputs": [
    {
     "data": {
      "text/plain": [
       "<http://data.europa.eu/xsp/cn2024/280410000080>: Hydrogène (product)"
      ]
     },
     "execution_count": 5,
     "metadata": {},
     "output_type": "execute_result"
    }
   ],
   "source": [
    "h2 = sdt.ProductIRI(\"http://data.europa.eu/xsp/cn2024/280410000080\")\n",
    "demand = sdt.Demand(\n",
    "    product_iri=h2,\n",
    "    unit_iri=sdt.UnitIRI(\"https://vocab.sentier.dev/units/unit/KiloGM\"),\n",
    "    amount=10,\n",
    ")\n",
    "h2"
   ]
  },
  {
   "cell_type": "code",
   "execution_count": 6,
   "id": "dccbdffb-851a-482f-b3f7-7be226e46650",
   "metadata": {},
   "outputs": [],
   "source": [
    "model = WaterElectrolysisModel(\n",
    "    demand=demand,\n",
    "    run_config=sdt.RunConfig()\n",
    ")"
   ]
  },
  {
   "cell_type": "code",
   "execution_count": 7,
   "id": "2e8dd985-fc6e-429f-8cd2-2711046d32b9",
   "metadata": {},
   "outputs": [
    {
     "name": "stdout",
     "output_type": "stream",
     "text": [
      "\u001b[2m23:31:09\u001b[0m [\u001b[32m\u001b[1minfo     \u001b[0m] \u001b[1mRetrieved 3 triples from https://fuseki.d-d-s.ch/skosmos/query\u001b[0m\n"
     ]
    },
    {
     "data": {
      "text/plain": [
       "[<http://openenergy-platform.org/ontology/oeo/OEO_00010380>: renewable electrolytic hydrogen (product),\n",
       " <http://openenergy-platform.org/ontology/oeo/OEO_00010416>: nuclear electric hydrogen (product),\n",
       " <http://openenergy-platform.org/ontology/oeo/OEO_00010418>: solar electrolytic hydrogen (product)]"
      ]
     },
     "execution_count": 7,
     "metadata": {},
     "output_type": "execute_result"
    }
   ],
   "source": [
    "model.hydrogen.narrower()"
   ]
  },
  {
   "cell_type": "code",
   "execution_count": 8,
   "id": "74912887-65de-4aac-9097-76a7231e1a12",
   "metadata": {},
   "outputs": [
    {
     "name": "stdout",
     "output_type": "stream",
     "text": [
      "\u001b[2m23:31:09\u001b[0m [\u001b[32m\u001b[1minfo     \u001b[0m] \u001b[1mRetrieved 35 triples from https://fuseki.d-d-s.ch/skosmos/query\u001b[0m\n",
      "\u001b[2m23:31:10\u001b[0m [\u001b[32m\u001b[1minfo     \u001b[0m] \u001b[1mRetrieved 3 triples from https://fuseki.d-d-s.ch/skosmos/query\u001b[0m\n"
     ]
    },
    {
     "data": {
      "text/plain": [
       "{'exactMatch': [<Dataset: 8>], 'broader': [], 'narrower': []}"
      ]
     },
     "execution_count": 8,
     "metadata": {},
     "output_type": "execute_result"
    }
   ],
   "source": [
    "bom_electrolysis = model.get_model_data(product=model.hydrogen, kind=sdt.DatasetKind.BOM)\n",
    "bom_electrolysis"
   ]
  },
  {
   "cell_type": "code",
   "execution_count": 11,
   "id": "24d37fd4-1e82-4a75-9d92-c57b340dac9f",
   "metadata": {},
   "outputs": [
    {
     "data": {
      "text/plain": [
       "{'sdt': {'aliased': True,\n",
       "  'mapping': {'hydrogen': 'http://openenergy-platform.org/ontology/oeo/OEO_00010379'}}}"
      ]
     },
     "execution_count": 11,
     "metadata": {},
     "output_type": "execute_result"
    }
   ],
   "source": [
    "bom_electrolysis['exactMatch'][0].dataframe.attrs"
   ]
  },
  {
   "cell_type": "code",
   "execution_count": 12,
   "id": "49d216cc-2664-44cd-9157-e6981da4a6e9",
   "metadata": {},
   "outputs": [],
   "source": [
    "import pandas as pd"
   ]
  },
  {
   "cell_type": "code",
   "execution_count": 17,
   "id": "2d3ec10e-2a85-4ef0-967e-3dbe3ba5e696",
   "metadata": {},
   "outputs": [
    {
     "data": {
      "text/plain": [
       "pandas.core.series.Series"
      ]
     },
     "execution_count": 17,
     "metadata": {},
     "output_type": "execute_result"
    }
   ],
   "source": [
    "type(df['hydrogen'])"
   ]
  },
  {
   "cell_type": "code",
   "execution_count": 14,
   "id": "433750a1-f1f1-45fa-b277-f93fba985e6a",
   "metadata": {},
   "outputs": [
    {
     "data": {
      "text/html": [
       "<div>\n",
       "<style scoped>\n",
       "    .dataframe tbody tr th:only-of-type {\n",
       "        vertical-align: middle;\n",
       "    }\n",
       "\n",
       "    .dataframe tbody tr th {\n",
       "        vertical-align: top;\n",
       "    }\n",
       "\n",
       "    .dataframe thead th {\n",
       "        text-align: right;\n",
       "    }\n",
       "</style>\n",
       "<table border=\"1\" class=\"dataframe\">\n",
       "  <thead>\n",
       "    <tr style=\"text-align: right;\">\n",
       "      <th></th>\n",
       "      <th>http://data.europa.eu/xsp/cn2024/285390100080</th>\n",
       "      <th>hydrogen</th>\n",
       "    </tr>\n",
       "  </thead>\n",
       "  <tbody>\n",
       "    <tr>\n",
       "      <th>0</th>\n",
       "      <td>14.0</td>\n",
       "      <td>1.0</td>\n",
       "    </tr>\n",
       "  </tbody>\n",
       "</table>\n",
       "</div>"
      ],
      "text/plain": [
       "   http://data.europa.eu/xsp/cn2024/285390100080  hydrogen\n",
       "0                                           14.0       1.0"
      ]
     },
     "execution_count": 14,
     "metadata": {},
     "output_type": "execute_result"
    }
   ],
   "source": [
    "df = model.merge_datasets_to_dataframes(bom_electrolysis['exactMatch'])\n",
    "df"
   ]
  },
  {
   "cell_type": "code",
   "execution_count": 11,
   "id": "67596f20-520a-4a6c-be03-ae4fe5b641c6",
   "metadata": {},
   "outputs": [
    {
     "name": "stdout",
     "output_type": "stream",
     "text": [
      "\u001b[2m18:25:43\u001b[0m [\u001b[32m\u001b[1minfo     \u001b[0m] \u001b[1mRetrieved 59 triples from https://fuseki.d-d-s.ch/skosmos/query\u001b[0m\n",
      "\u001b[2m18:25:43\u001b[0m [\u001b[32m\u001b[1minfo     \u001b[0m] \u001b[1mRetrieved 3 triples from https://fuseki.d-d-s.ch/skosmos/query\u001b[0m\n"
     ]
    },
    {
     "data": {
      "text/plain": [
       "{'exactMatch': [],\n",
       " 'broader': [],\n",
       " 'narrower': [<Dataset: 1>,\n",
       "  <Dataset: 2>,\n",
       "  <Dataset: 3>,\n",
       "  <Dataset: 4>,\n",
       "  <Dataset: 5>,\n",
       "  <Dataset: 6>]}"
      ]
     },
     "execution_count": 11,
     "metadata": {},
     "output_type": "execute_result"
    }
   ],
   "source": [
    "parameters = model.get_model_data(product=model.electrolyzer, kind=sdt.DatasetKind.PARAMETERS)\n",
    "parameters"
   ]
  },
  {
   "cell_type": "code",
   "execution_count": null,
   "id": "7b8a3201-5a28-4ee7-9d98-a8ba03ce2fca",
   "metadata": {},
   "outputs": [],
   "source": [
    "model.merge_datasets_to_dataframes(parameters['narrower'])"
   ]
  },
  {
   "cell_type": "code",
   "execution_count": null,
   "id": "33f98f9e-4a5a-4d3b-a7a2-98a7157a828b",
   "metadata": {},
   "outputs": [],
   "source": []
  }
 ],
 "metadata": {
  "kernelspec": {
   "display_name": "Python 3 (ipykernel)",
   "language": "python",
   "name": "python3"
  },
  "language_info": {
   "codemirror_mode": {
    "name": "ipython",
    "version": 3
   },
   "file_extension": ".py",
   "mimetype": "text/x-python",
   "name": "python",
   "nbconvert_exporter": "python",
   "pygments_lexer": "ipython3",
   "version": "3.12.4"
  }
 },
 "nbformat": 4,
 "nbformat_minor": 5
}
