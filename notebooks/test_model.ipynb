{
 "cells": [
  {
   "cell_type": "code",
   "execution_count": 2,
   "metadata": {},
   "outputs": [],
   "source": [
    "import sentier_data_tools as sdt\n",
    "import sentier_peakachu as sp\n",
    "\n",
    "# sp.create_local_datastorage()"
   ]
  },
  {
   "cell_type": "code",
   "execution_count": 3,
   "metadata": {},
   "outputs": [
    {
     "data": {
      "text/plain": [
       "Demand(unit_iri=<https://vocab.sentier.dev/units/unit/KiloGM>: kilogram (unit), amount=10.0, spatial_context=GeonamesIRI('https://example.com/locations/PL'), properties=None, begin_date=None, end_date=None, product_iri=<https://example.com/electricity_from_gas>: Missing label (product))"
      ]
     },
     "execution_count": 3,
     "metadata": {},
     "output_type": "execute_result"
    }
   ],
   "source": [
    "el_from_gas = sdt.ProductIRI(\"https://example.com/electricity_from_gas\")\n",
    "poland = sdt.GeonamesIRI(\"https://example.com/locations/PL\")\n",
    "demand = sdt.Demand(\n",
    "    product_iri=el_from_gas,\n",
    "    unit_iri=sdt.UnitIRI(\"https://vocab.sentier.dev/units/unit/KiloGM\"),\n",
    "    amount=10,\n",
    "    spatial_context=poland,\n",
    ")\n",
    "demand"
   ]
  },
  {
   "cell_type": "code",
   "execution_count": 4,
   "metadata": {},
   "outputs": [],
   "source": [
    "model = sp.ElectricityModel(\n",
    "    demand=demand, \n",
    "    run_config=sdt.RunConfig()\n",
    ")"
   ]
  },
  {
   "cell_type": "code",
   "execution_count": 6,
   "metadata": {},
   "outputs": [
    {
     "data": {
      "text/plain": [
       "[]"
      ]
     },
     "execution_count": 6,
     "metadata": {},
     "output_type": "execute_result"
    }
   ],
   "source": [
    "model.get_electricity_mix()"
   ]
  },
  {
   "cell_type": "code",
   "execution_count": 25,
   "metadata": {},
   "outputs": [
    {
     "name": "stdout",
     "output_type": "stream",
     "text": [
      "\u001b[2m21:39:25\u001b[0m [\u001b[32m\u001b[1minfo     \u001b[0m] \u001b[1mRetrieved 0 triples from https://fuseki.d-d-s.ch/skosmos/query\u001b[0m\n",
      "\u001b[2m21:39:25\u001b[0m [\u001b[32m\u001b[1minfo     \u001b[0m] \u001b[1mRetrieved 0 triples from https://fuseki.d-d-s.ch/skosmos/query\u001b[0m\n"
     ]
    },
    {
     "data": {
      "text/plain": [
       "{'exactMatch': [<Dataset: 1>], 'broader': [], 'narrower': []}"
      ]
     },
     "execution_count": 25,
     "metadata": {},
     "output_type": "execute_result"
    }
   ],
   "source": [
    "model.get_model_data(product=model.electricity, kind=sdt.DatasetKind.BOM)"
   ]
  },
  {
   "cell_type": "code",
   "execution_count": null,
   "metadata": {},
   "outputs": [],
   "source": []
  }
 ],
 "metadata": {
  "kernelspec": {
   "display_name": "sentier",
   "language": "python",
   "name": "python3"
  },
  "language_info": {
   "codemirror_mode": {
    "name": "ipython",
    "version": 3
   },
   "file_extension": ".py",
   "mimetype": "text/x-python",
   "name": "python",
   "nbconvert_exporter": "python",
   "pygments_lexer": "ipython3",
   "version": "3.12.2"
  }
 },
 "nbformat": 4,
 "nbformat_minor": 2
}
