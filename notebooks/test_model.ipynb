{
 "cells": [
  {
   "cell_type": "code",
   "execution_count": 1,
   "metadata": {},
   "outputs": [],
   "source": [
    "import sentier_data_tools as sdt\n",
    "import sentier_peakachu as sp\n",
    "from datetime import datetime"
   ]
  },
  {
   "cell_type": "code",
   "execution_count": 2,
   "metadata": {},
   "outputs": [
    {
     "name": "stderr",
     "output_type": "stream",
     "text": [
      "/Users/timodiepers/Documents/Coding/sentier_peakachu/sentier_peakachu/utils_location.py:40: UserWarning: ISO code ABW not found\n",
      "  warnings.warn(f\"ISO code {iso_code} not found\")\n",
      "/Users/timodiepers/Documents/Coding/sentier_peakachu/sentier_peakachu/data.py:118: UserWarning: Location not found for ABW, skipping Dataset creation\n",
      "  warnings.warn(f\"Location not found for {country}, skipping Dataset creation\")\n",
      "/Users/timodiepers/Documents/Coding/sentier_peakachu/sentier_peakachu/utils_location.py:40: UserWarning: ISO code BES not found\n",
      "  warnings.warn(f\"ISO code {iso_code} not found\")\n",
      "/Users/timodiepers/Documents/Coding/sentier_peakachu/sentier_peakachu/data.py:118: UserWarning: Location not found for BES, skipping Dataset creation\n",
      "  warnings.warn(f\"Location not found for {country}, skipping Dataset creation\")\n",
      "/Users/timodiepers/Documents/Coding/sentier_peakachu/sentier_peakachu/utils_location.py:40: UserWarning: ISO code BMU not found\n",
      "  warnings.warn(f\"ISO code {iso_code} not found\")\n",
      "/Users/timodiepers/Documents/Coding/sentier_peakachu/sentier_peakachu/data.py:118: UserWarning: Location not found for BMU, skipping Dataset creation\n",
      "  warnings.warn(f\"Location not found for {country}, skipping Dataset creation\")\n",
      "/Users/timodiepers/Documents/Coding/sentier_peakachu/sentier_peakachu/utils_location.py:40: UserWarning: ISO code CYM not found\n",
      "  warnings.warn(f\"ISO code {iso_code} not found\")\n",
      "/Users/timodiepers/Documents/Coding/sentier_peakachu/sentier_peakachu/data.py:118: UserWarning: Location not found for CYM, skipping Dataset creation\n",
      "  warnings.warn(f\"Location not found for {country}, skipping Dataset creation\")\n",
      "/Users/timodiepers/Documents/Coding/sentier_peakachu/sentier_peakachu/utils_location.py:40: UserWarning: ISO code ESH not found\n",
      "  warnings.warn(f\"ISO code {iso_code} not found\")\n",
      "/Users/timodiepers/Documents/Coding/sentier_peakachu/sentier_peakachu/data.py:118: UserWarning: Location not found for ESH, skipping Dataset creation\n",
      "  warnings.warn(f\"Location not found for {country}, skipping Dataset creation\")\n",
      "/Users/timodiepers/Documents/Coding/sentier_peakachu/sentier_peakachu/utils_location.py:40: UserWarning: ISO code GLP not found\n",
      "  warnings.warn(f\"ISO code {iso_code} not found\")\n",
      "/Users/timodiepers/Documents/Coding/sentier_peakachu/sentier_peakachu/data.py:118: UserWarning: Location not found for GLP, skipping Dataset creation\n",
      "  warnings.warn(f\"Location not found for {country}, skipping Dataset creation\")\n",
      "/Users/timodiepers/Documents/Coding/sentier_peakachu/sentier_peakachu/utils_location.py:40: UserWarning: ISO code GUF not found\n",
      "  warnings.warn(f\"ISO code {iso_code} not found\")\n",
      "/Users/timodiepers/Documents/Coding/sentier_peakachu/sentier_peakachu/data.py:118: UserWarning: Location not found for GUF, skipping Dataset creation\n",
      "  warnings.warn(f\"Location not found for {country}, skipping Dataset creation\")\n",
      "/Users/timodiepers/Documents/Coding/sentier_peakachu/sentier_peakachu/utils_location.py:40: UserWarning: ISO code HKG not found\n",
      "  warnings.warn(f\"ISO code {iso_code} not found\")\n",
      "/Users/timodiepers/Documents/Coding/sentier_peakachu/sentier_peakachu/data.py:118: UserWarning: Location not found for HKG, skipping Dataset creation\n",
      "  warnings.warn(f\"Location not found for {country}, skipping Dataset creation\")\n",
      "/Users/timodiepers/Documents/Coding/sentier_peakachu/sentier_peakachu/utils_location.py:40: UserWarning: ISO code IMN not found\n",
      "  warnings.warn(f\"ISO code {iso_code} not found\")\n",
      "/Users/timodiepers/Documents/Coding/sentier_peakachu/sentier_peakachu/data.py:118: UserWarning: Location not found for IMN, skipping Dataset creation\n",
      "  warnings.warn(f\"Location not found for {country}, skipping Dataset creation\")\n",
      "/Users/timodiepers/Documents/Coding/sentier_peakachu/sentier_peakachu/utils_location.py:40: UserWarning: ISO code KOR not found\n",
      "  warnings.warn(f\"ISO code {iso_code} not found\")\n",
      "/Users/timodiepers/Documents/Coding/sentier_peakachu/sentier_peakachu/data.py:118: UserWarning: Location not found for KOR, skipping Dataset creation\n",
      "  warnings.warn(f\"Location not found for {country}, skipping Dataset creation\")\n",
      "/Users/timodiepers/Documents/Coding/sentier_peakachu/sentier_peakachu/utils_location.py:40: UserWarning: ISO code KWT not found\n",
      "  warnings.warn(f\"ISO code {iso_code} not found\")\n",
      "/Users/timodiepers/Documents/Coding/sentier_peakachu/sentier_peakachu/data.py:118: UserWarning: Location not found for KWT, skipping Dataset creation\n",
      "  warnings.warn(f\"Location not found for {country}, skipping Dataset creation\")\n",
      "/Users/timodiepers/Documents/Coding/sentier_peakachu/sentier_peakachu/utils_location.py:40: UserWarning: ISO code MTQ not found\n",
      "  warnings.warn(f\"ISO code {iso_code} not found\")\n",
      "/Users/timodiepers/Documents/Coding/sentier_peakachu/sentier_peakachu/data.py:118: UserWarning: Location not found for MTQ, skipping Dataset creation\n",
      "  warnings.warn(f\"Location not found for {country}, skipping Dataset creation\")\n",
      "/Users/timodiepers/Documents/Coding/sentier_peakachu/sentier_peakachu/utils_location.py:40: UserWarning: ISO code NCL not found\n",
      "  warnings.warn(f\"ISO code {iso_code} not found\")\n",
      "/Users/timodiepers/Documents/Coding/sentier_peakachu/sentier_peakachu/data.py:118: UserWarning: Location not found for NCL, skipping Dataset creation\n",
      "  warnings.warn(f\"Location not found for {country}, skipping Dataset creation\")\n",
      "/Users/timodiepers/Documents/Coding/sentier_peakachu/sentier_peakachu/utils_location.py:40: UserWarning: ISO code PSE not found\n",
      "  warnings.warn(f\"ISO code {iso_code} not found\")\n",
      "/Users/timodiepers/Documents/Coding/sentier_peakachu/sentier_peakachu/data.py:118: UserWarning: Location not found for PSE, skipping Dataset creation\n",
      "  warnings.warn(f\"Location not found for {country}, skipping Dataset creation\")\n",
      "/Users/timodiepers/Documents/Coding/sentier_peakachu/sentier_peakachu/utils_location.py:40: UserWarning: ISO code PYF not found\n",
      "  warnings.warn(f\"ISO code {iso_code} not found\")\n",
      "/Users/timodiepers/Documents/Coding/sentier_peakachu/sentier_peakachu/data.py:118: UserWarning: Location not found for PYF, skipping Dataset creation\n",
      "  warnings.warn(f\"Location not found for {country}, skipping Dataset creation\")\n",
      "/Users/timodiepers/Documents/Coding/sentier_peakachu/sentier_peakachu/utils_location.py:40: UserWarning: ISO code REU not found\n",
      "  warnings.warn(f\"ISO code {iso_code} not found\")\n",
      "/Users/timodiepers/Documents/Coding/sentier_peakachu/sentier_peakachu/data.py:118: UserWarning: Location not found for REU, skipping Dataset creation\n",
      "  warnings.warn(f\"Location not found for {country}, skipping Dataset creation\")\n"
     ]
    }
   ],
   "source": [
    "sp.create_local_electricity_datastorage()"
   ]
  },
  {
   "cell_type": "markdown",
   "metadata": {},
   "source": [
    "## ElectricitySourceModel"
   ]
  },
  {
   "cell_type": "code",
   "execution_count": 3,
   "metadata": {},
   "outputs": [
    {
     "data": {
      "text/plain": [
       "0.5459558400294707"
      ]
     },
     "execution_count": 3,
     "metadata": {},
     "output_type": "execute_result"
    }
   ],
   "source": [
    "el_from_gas = sdt.ProductIRI(\"https://example.com/gas\")\n",
    "location = sdt.GeonamesIRI(sp.get_geonames_iri_from_iso_code(\"DE\"))\n",
    "demand = sdt.Demand(\n",
    "    product_iri=el_from_gas,\n",
    "    unit_iri=sdt.UnitIRI(\"https://vocab.sentier.dev/units/unit/KilowattHour\"),\n",
    "    amount=10,\n",
    "    spatial_context=location,\n",
    "    begin_date=datetime(2022, 10, 8, 6, 49, 0),\n",
    "    end_date=datetime(2022, 10, 9, 6, 59, 0),\n",
    ")\n",
    "model = sp.ElectricitySourceModel(demand=demand, run_config=sdt.RunConfig())\n",
    "plant_emissions = model.get_model_data()\n",
    "model.calculate_average_source_emission_factor(plant_emissions)"
   ]
  },
  {
   "cell_type": "markdown",
   "metadata": {},
   "source": [
    "## ElectricityMixModel"
   ]
  },
  {
   "cell_type": "code",
   "execution_count": 22,
   "metadata": {},
   "outputs": [],
   "source": [
    "generic_electricity = sdt.ProductIRI(\"http://openenergy-platform.org/ontology/oeo/OEO_00000139\")\n",
    "location = sdt.GeonamesIRI(sp.get_geonames_iri_from_iso_code(\"DE\"))\n",
    "demand = sdt.Demand(\n",
    "    product_iri=generic_electricity,\n",
    "    unit_iri=sdt.UnitIRI(\"https://vocab.sentier.dev/units/unit/KilowattHour\"),\n",
    "    amount=10,\n",
    "    spatial_context=location,\n",
    "    begin_date=datetime(2022, 10, 8, 15, 46, 0),\n",
    "    end_date=datetime(2022, 10, 8, 15, 49, 0),\n",
    ")\n",
    "model = sp.ElectricityMixModel(demand=demand, run_config=sdt.RunConfig())\n",
    "df = model.get_model_data()"
   ]
  },
  {
   "cell_type": "code",
   "execution_count": 23,
   "metadata": {},
   "outputs": [],
   "source": [
    "mix = model.calculate_market_mix(df)"
   ]
  },
  {
   "cell_type": "code",
   "execution_count": 25,
   "metadata": {},
   "outputs": [
    {
     "name": "stderr",
     "output_type": "stream",
     "text": [
      "\u001b[32m2024-10-11 00:11:29.858\u001b[0m | \u001b[34m\u001b[1mDEBUG   \u001b[0m | \u001b[36msentier_peakachu.model\u001b[0m:\u001b[36mcalculate_impact\u001b[0m:\u001b[36m106\u001b[0m - \u001b[34m\u001b[1mMarket shares: https://example.com/coa    0.865719\n",
      "https://example.com/gas    0.134281\n",
      "dtype: object\u001b[0m\n",
      "\u001b[32m2024-10-11 00:11:29.859\u001b[0m | \u001b[34m\u001b[1mDEBUG   \u001b[0m | \u001b[36msentier_peakachu.model\u001b[0m:\u001b[36mcalculate_impact\u001b[0m:\u001b[36m107\u001b[0m - \u001b[34m\u001b[1mEmission factors: [1.0415439556617119, 0.5459558400294707]\u001b[0m\n"
     ]
    },
    {
     "data": {
      "text/plain": [
       "9.749957884757078"
      ]
     },
     "execution_count": 25,
     "metadata": {},
     "output_type": "execute_result"
    }
   ],
   "source": [
    "model.calculate_impact(mix)"
   ]
  },
  {
   "cell_type": "markdown",
   "metadata": {},
   "source": [
    "## Other"
   ]
  },
  {
   "cell_type": "code",
   "execution_count": 10,
   "metadata": {},
   "outputs": [
    {
     "name": "stdout",
     "output_type": "stream",
     "text": [
      "Error: HTTP Error 401\n"
     ]
    }
   ],
   "source": [
    "import requests\n",
    "\n",
    "def get_geoname_info(geoname_id, username):\n",
    "    url = f\"http://api.geonames.org/getJSON?geonameId={geoname_id}&username={username}\"\n",
    "    try:\n",
    "        response = requests.get(url)\n",
    "        # Check HTTP status code for response received successfully\n",
    "        if response.status_code == 200:\n",
    "            data = response.json()\n",
    "            # Check if the data contains any meaningful information\n",
    "            if data:\n",
    "                # Check if there is an error message in the data\n",
    "                if 'status' in data:\n",
    "                    return {'error': data['status']['message']}\n",
    "                else:\n",
    "                    # Here, you can add more checks depending on your needs\n",
    "                    return {'data': data}\n",
    "            else:\n",
    "                return {'error': 'No data returned from GeoNames API'}\n",
    "        else:\n",
    "            return {'error': f'HTTP Error {response.status_code}'}\n",
    "    except requests.exceptions.RequestException as e:\n",
    "        # Handle connection errors\n",
    "        return {'error': str(e)}\n",
    "\n",
    "# Example usage\n",
    "geoname_id = 2921044  # Example ID for Germany\n",
    "username = 'diepers'  # Replace with your GeoNames username\n",
    "result = get_geoname_info(geoname_id, username)\n",
    "if 'error' in result:\n",
    "    print(\"Error:\", result['error'])\n",
    "else:\n",
    "    if result['data'].get(\"fcl\") == 'A' and result['data'].get(\"fcode\") == 'PCLI':\n",
    "        print(\"The ID represents a country.\")\n",
    "    else:\n",
    "        print(\"The ID does not represent a country.\")\n"
   ]
  },
  {
   "cell_type": "code",
   "execution_count": 3,
   "metadata": {},
   "outputs": [],
   "source": [
    "import warnings\n",
    "import polars as pl\n",
    "\n",
    "BASE_URL = \"https://sws.geonames.org/\"\n",
    "LOOKUP_FILE = \"../data/iso_iri_table.csv\"\n",
    "LOOKUP_SEPARATOR = \"\\t\""
   ]
  },
  {
   "cell_type": "code",
   "execution_count": 8,
   "metadata": {},
   "outputs": [],
   "source": [
    "\n",
    "iso_code = \"FAS\"\n",
    "if len(iso_code) not in [2, 3]:\n",
    "    raise ValueError(\"Please provide a two-digit or three-digit ISO code\")\n",
    "\n",
    "lookup = pl.scan_csv(LOOKUP_FILE, separator=LOOKUP_SEPARATOR)\n",
    "column = \"ISO3\" if len(iso_code) == 3 else \"ISO2\"\n",
    "query = f\"SELECT geonameid FROM self WHERE {column} = '{iso_code}'\""
   ]
  },
  {
   "cell_type": "code",
   "execution_count": 10,
   "metadata": {},
   "outputs": [],
   "source": [
    "geoname_id = lookup.sql(query).collect()"
   ]
  },
  {
   "cell_type": "code",
   "execution_count": 14,
   "metadata": {},
   "outputs": [
    {
     "data": {
      "text/plain": [
       "True"
      ]
     },
     "execution_count": 14,
     "metadata": {},
     "output_type": "execute_result"
    }
   ],
   "source": [
    "geoname_id.is_empty()"
   ]
  },
  {
   "cell_type": "code",
   "execution_count": null,
   "metadata": {},
   "outputs": [],
   "source": []
  }
 ],
 "metadata": {
  "kernelspec": {
   "display_name": "sentier",
   "language": "python",
   "name": "python3"
  },
  "language_info": {
   "codemirror_mode": {
    "name": "ipython",
    "version": 3
   },
   "file_extension": ".py",
   "mimetype": "text/x-python",
   "name": "python",
   "nbconvert_exporter": "python",
   "pygments_lexer": "ipython3",
   "version": "3.12.2"
  }
 },
 "nbformat": 4,
 "nbformat_minor": 2
}
